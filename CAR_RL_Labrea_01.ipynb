{
  "nbformat": 4,
  "nbformat_minor": 0,
  "metadata": {
    "colab": {
      "provenance": [],
      "authorship_tag": "ABX9TyMW7wD5tQIJrAHLiJHVz9XE",
      "include_colab_link": true
    },
    "kernelspec": {
      "name": "python3",
      "display_name": "Python 3"
    },
    "language_info": {
      "name": "python"
    }
  },
  "cells": [
    {
      "cell_type": "markdown",
      "metadata": {
        "id": "view-in-github",
        "colab_type": "text"
      },
      "source": [
        "<a href=\"https://colab.research.google.com/github/silvia-jesus/CAR_Labrea/blob/main/CAR_RL_Labrea_01.ipynb\" target=\"_parent\"><img src=\"https://colab.research.google.com/assets/colab-badge.svg\" alt=\"Open In Colab\"/></a>"
      ]
    },
    {
      "cell_type": "markdown",
      "source": [
        "### **CAR_RL_Labrea_01.ipynb**"
      ],
      "metadata": {
        "id": "VmEC1zSis8A-"
      }
    },
    {
      "cell_type": "code",
      "execution_count": null,
      "metadata": {
        "colab": {
          "base_uri": "https://localhost:8080/"
        },
        "id": "i_4zXgxMlp5g",
        "outputId": "29ec0883-91e7-4738-b2ec-f67390e428c0"
      },
      "outputs": [
        {
          "output_type": "stream",
          "name": "stdout",
          "text": [
            "Mounted at /content/drive\n"
          ]
        }
      ],
      "source": [
        "from google.colab import drive\n",
        "drive.mount('/content/drive')"
      ]
    },
    {
      "cell_type": "code",
      "source": [
        "import os\n",
        "\n",
        "if not os.path.exists('/content/drive/MyDrive/CAR_RL_Labrea/OUTPUT'):\n",
        "  os.makedirs('/content/drive/MyDrive/CAR_RL_Labrea/OUTPUT')\n",
        "\n",
        "from pathlib import Path\n",
        "Path('./').mkdir(parents=True, exist_ok=True)"
      ],
      "metadata": {
        "id": "TuHz_taUnSOG"
      },
      "execution_count": null,
      "outputs": []
    },
    {
      "cell_type": "code",
      "source": [
        "import time"
      ],
      "metadata": {
        "id": "W_e_ZGnd4g8i"
      },
      "execution_count": null,
      "outputs": []
    },
    {
      "cell_type": "code",
      "source": [
        "import pandas as pd\n",
        "import numpy as np"
      ],
      "metadata": {
        "id": "9x29ZjJDtsMF"
      },
      "execution_count": null,
      "outputs": []
    },
    {
      "cell_type": "code",
      "source": [
        "!pip install geopandas\n",
        "import geopandas as gpd"
      ],
      "metadata": {
        "colab": {
          "base_uri": "https://localhost:8080/"
        },
        "id": "NYjM9DIl0GIE",
        "outputId": "964d7309-678f-4d7d-b17e-85e428ce212a"
      },
      "execution_count": null,
      "outputs": [
        {
          "output_type": "stream",
          "name": "stdout",
          "text": [
            "Looking in indexes: https://pypi.org/simple, https://us-python.pkg.dev/colab-wheels/public/simple/\n",
            "Collecting geopandas\n",
            "  Downloading geopandas-0.12.2-py3-none-any.whl (1.1 MB)\n",
            "\u001b[2K     \u001b[90m━━━━━━━━━━━━━━━━━━━━━━━━━━━━━━━━━━━━━━━━\u001b[0m \u001b[32m1.1/1.1 MB\u001b[0m \u001b[31m14.1 MB/s\u001b[0m eta \u001b[36m0:00:00\u001b[0m\n",
            "\u001b[?25hCollecting pyproj>=2.6.1.post1\n",
            "  Downloading pyproj-3.4.1-cp39-cp39-manylinux_2_17_x86_64.manylinux2014_x86_64.whl (7.7 MB)\n",
            "\u001b[2K     \u001b[90m━━━━━━━━━━━━━━━━━━━━━━━━━━━━━━━━━━━━━━━━\u001b[0m \u001b[32m7.7/7.7 MB\u001b[0m \u001b[31m70.2 MB/s\u001b[0m eta \u001b[36m0:00:00\u001b[0m\n",
            "\u001b[?25hRequirement already satisfied: pandas>=1.0.0 in /usr/local/lib/python3.9/dist-packages (from geopandas) (1.4.4)\n",
            "Requirement already satisfied: shapely>=1.7 in /usr/local/lib/python3.9/dist-packages (from geopandas) (2.0.1)\n",
            "Requirement already satisfied: packaging in /usr/local/lib/python3.9/dist-packages (from geopandas) (23.0)\n",
            "Collecting fiona>=1.8\n",
            "  Downloading Fiona-1.9.2-cp39-cp39-manylinux_2_17_x86_64.manylinux2014_x86_64.whl (16.1 MB)\n",
            "\u001b[2K     \u001b[90m━━━━━━━━━━━━━━━━━━━━━━━━━━━━━━━━━━━━━━━━\u001b[0m \u001b[32m16.1/16.1 MB\u001b[0m \u001b[31m61.7 MB/s\u001b[0m eta \u001b[36m0:00:00\u001b[0m\n",
            "\u001b[?25hCollecting click-plugins>=1.0\n",
            "  Downloading click_plugins-1.1.1-py2.py3-none-any.whl (7.5 kB)\n",
            "Collecting cligj>=0.5\n",
            "  Downloading cligj-0.7.2-py3-none-any.whl (7.1 kB)\n",
            "Requirement already satisfied: certifi in /usr/local/lib/python3.9/dist-packages (from fiona>=1.8->geopandas) (2022.12.7)\n",
            "Requirement already satisfied: importlib-metadata in /usr/local/lib/python3.9/dist-packages (from fiona>=1.8->geopandas) (6.1.0)\n",
            "Collecting munch>=2.3.2\n",
            "  Downloading munch-2.5.0-py2.py3-none-any.whl (10 kB)\n",
            "Requirement already satisfied: click~=8.0 in /usr/local/lib/python3.9/dist-packages (from fiona>=1.8->geopandas) (8.1.3)\n",
            "Requirement already satisfied: attrs>=19.2.0 in /usr/local/lib/python3.9/dist-packages (from fiona>=1.8->geopandas) (22.2.0)\n",
            "Requirement already satisfied: pytz>=2020.1 in /usr/local/lib/python3.9/dist-packages (from pandas>=1.0.0->geopandas) (2022.7.1)\n",
            "Requirement already satisfied: python-dateutil>=2.8.1 in /usr/local/lib/python3.9/dist-packages (from pandas>=1.0.0->geopandas) (2.8.2)\n",
            "Requirement already satisfied: numpy>=1.18.5 in /usr/local/lib/python3.9/dist-packages (from pandas>=1.0.0->geopandas) (1.22.4)\n",
            "Requirement already satisfied: six in /usr/local/lib/python3.9/dist-packages (from munch>=2.3.2->fiona>=1.8->geopandas) (1.16.0)\n",
            "Requirement already satisfied: zipp>=0.5 in /usr/local/lib/python3.9/dist-packages (from importlib-metadata->fiona>=1.8->geopandas) (3.15.0)\n",
            "Installing collected packages: pyproj, munch, cligj, click-plugins, fiona, geopandas\n",
            "Successfully installed click-plugins-1.1.1 cligj-0.7.2 fiona-1.9.2 geopandas-0.12.2 munch-2.5.0 pyproj-3.4.1\n"
          ]
        }
      ]
    },
    {
      "cell_type": "code",
      "source": [
        "!sudo apt install libspatialindex-dev\n",
        "!pip install rtree\n",
        "!pip install pygeos\n",
        "\n",
        "import rtree\n",
        "import pygeos\n",
        "gpd.options.use_pygeos = True\n",
        "USE_PYGEOS=1"
      ],
      "metadata": {
        "colab": {
          "base_uri": "https://localhost:8080/"
        },
        "id": "SXZLSYR-7_ZS",
        "outputId": "60f9c8da-824e-419d-9c52-6ae8dfa8159d"
      },
      "execution_count": null,
      "outputs": [
        {
          "output_type": "stream",
          "name": "stdout",
          "text": [
            "Reading package lists... Done\n",
            "Building dependency tree       \n",
            "Reading state information... Done\n",
            "The following additional packages will be installed:\n",
            "  libspatialindex-c6 libspatialindex6\n",
            "The following NEW packages will be installed:\n",
            "  libspatialindex-c6 libspatialindex-dev libspatialindex6\n",
            "0 upgraded, 3 newly installed, 0 to remove and 23 not upgraded.\n",
            "Need to get 340 kB of archives.\n",
            "After this operation, 1,538 kB of additional disk space will be used.\n",
            "Get:1 http://archive.ubuntu.com/ubuntu focal/universe amd64 libspatialindex6 amd64 1.9.3-1build1 [266 kB]\n",
            "Get:2 http://archive.ubuntu.com/ubuntu focal/universe amd64 libspatialindex-c6 amd64 1.9.3-1build1 [58.3 kB]\n",
            "Get:3 http://archive.ubuntu.com/ubuntu focal/universe amd64 libspatialindex-dev amd64 1.9.3-1build1 [16.0 kB]\n",
            "Fetched 340 kB in 1s (448 kB/s)\n",
            "debconf: unable to initialize frontend: Dialog\n",
            "debconf: (No usable dialog-like program is installed, so the dialog based frontend cannot be used. at /usr/share/perl5/Debconf/FrontEnd/Dialog.pm line 76, <> line 3.)\n",
            "debconf: falling back to frontend: Readline\n",
            "debconf: unable to initialize frontend: Readline\n",
            "debconf: (This frontend requires a controlling tty.)\n",
            "debconf: falling back to frontend: Teletype\n",
            "dpkg-preconfigure: unable to re-open stdin: \n",
            "Selecting previously unselected package libspatialindex6:amd64.\n",
            "(Reading database ... 128285 files and directories currently installed.)\n",
            "Preparing to unpack .../libspatialindex6_1.9.3-1build1_amd64.deb ...\n",
            "Unpacking libspatialindex6:amd64 (1.9.3-1build1) ...\n",
            "Selecting previously unselected package libspatialindex-c6:amd64.\n",
            "Preparing to unpack .../libspatialindex-c6_1.9.3-1build1_amd64.deb ...\n",
            "Unpacking libspatialindex-c6:amd64 (1.9.3-1build1) ...\n",
            "Selecting previously unselected package libspatialindex-dev:amd64.\n",
            "Preparing to unpack .../libspatialindex-dev_1.9.3-1build1_amd64.deb ...\n",
            "Unpacking libspatialindex-dev:amd64 (1.9.3-1build1) ...\n",
            "Setting up libspatialindex6:amd64 (1.9.3-1build1) ...\n",
            "Setting up libspatialindex-c6:amd64 (1.9.3-1build1) ...\n",
            "Setting up libspatialindex-dev:amd64 (1.9.3-1build1) ...\n",
            "Processing triggers for libc-bin (2.31-0ubuntu9.9) ...\n",
            "Looking in indexes: https://pypi.org/simple, https://us-python.pkg.dev/colab-wheels/public/simple/\n",
            "Collecting rtree\n",
            "  Downloading Rtree-1.0.1-cp39-cp39-manylinux_2_17_x86_64.manylinux2014_x86_64.whl (1.0 MB)\n",
            "\u001b[2K     \u001b[90m━━━━━━━━━━━━━━━━━━━━━━━━━━━━━━━━━━━━━━━━\u001b[0m \u001b[32m1.0/1.0 MB\u001b[0m \u001b[31m13.6 MB/s\u001b[0m eta \u001b[36m0:00:00\u001b[0m\n",
            "\u001b[?25hInstalling collected packages: rtree\n",
            "Successfully installed rtree-1.0.1\n",
            "Looking in indexes: https://pypi.org/simple, https://us-python.pkg.dev/colab-wheels/public/simple/\n",
            "Collecting pygeos\n",
            "  Downloading pygeos-0.14-cp39-cp39-manylinux_2_17_x86_64.manylinux2014_x86_64.whl (2.2 MB)\n",
            "\u001b[2K     \u001b[90m━━━━━━━━━━━━━━━━━━━━━━━━━━━━━━━━━━━━━━━━\u001b[0m \u001b[32m2.2/2.2 MB\u001b[0m \u001b[31m21.9 MB/s\u001b[0m eta \u001b[36m0:00:00\u001b[0m\n",
            "\u001b[?25hRequirement already satisfied: numpy>=1.13 in /usr/local/lib/python3.9/dist-packages (from pygeos) (1.22.4)\n",
            "Installing collected packages: pygeos\n",
            "Successfully installed pygeos-0.14\n"
          ]
        },
        {
          "output_type": "stream",
          "name": "stderr",
          "text": [
            "/usr/local/lib/python3.9/dist-packages/geopandas/_compat.py:123: UserWarning: The Shapely GEOS version (3.11.1-CAPI-1.17.1) is incompatible with the GEOS version PyGEOS was compiled with (3.10.4-CAPI-1.16.2). Conversions between both will be slow.\n",
            "  warnings.warn(\n",
            "/usr/local/lib/python3.9/dist-packages/IPython/core/interactiveshell.py:3249: UserWarning: Shapely 2.0 is installed, but because PyGEOS is also installed, GeoPandas will still use PyGEOS by default for now. To force to use and test Shapely 2.0, you have to set the environment variable USE_PYGEOS=0. You can do this before starting the Python process, or in your code before importing geopandas:\n",
            "\n",
            "import os\n",
            "os.environ['USE_PYGEOS'] = '0'\n",
            "import geopandas\n",
            "\n",
            "In a future release, GeoPandas will switch to using Shapely by default. If you are using PyGEOS directly (calling PyGEOS functions on geometries from GeoPandas), this will then stop working and you are encouraged to migrate from PyGEOS to Shapely 2.0 (https://shapely.readthedocs.io/en/latest/migration_pygeos.html).\n",
            "  if (await self.run_code(code, result,  async_=asy)):\n"
          ]
        }
      ]
    },
    {
      "cell_type": "code",
      "source": [
        "import matplotlib.pyplot as plt\n",
        "import matplotlib.ticker as ticker\n",
        "from mpl_toolkits.axes_grid1.anchored_artists import AnchoredSizeBar #para escala do mapa\n",
        "import matplotlib.font_manager as fm"
      ],
      "metadata": {
        "id": "Vjcv_jKi-U3k"
      },
      "execution_count": null,
      "outputs": []
    },
    {
      "cell_type": "code",
      "source": [
        "import io\n",
        "import requests"
      ],
      "metadata": {
        "id": "xYf8YHrtvLo8"
      },
      "execution_count": null,
      "outputs": []
    },
    {
      "cell_type": "code",
      "source": [
        "albers = '+proj=aea +lat_1=-5 +lat_2=-42 +lat_0=-32 +lon_0=-60 +x_0=0 +y_0=0 +ellps=aust_SA +units=m +no_defs '"
      ],
      "metadata": {
        "id": "cayb5e5GoJw-"
      },
      "execution_count": null,
      "outputs": []
    },
    {
      "cell_type": "markdown",
      "source": [
        "**Boletim CAR**  (https://dados.agricultura.gov.br/dataset/cadastro-ambiental-rural)  \n",
        "**Fonte:**\thttps://www.car.gov.br/temas/  \n",
        "**Mantenedor:** DRA - Diretoria de Regularização Ambiental  \n",
        "**Última Atualização:**\t6 de Fevereiro de 2023, 14:51 (UTC-03:00)  \n",
        "**Criado:**\t21 de Outubro de 2021, 16:02 (UTC-03:00)  \n",
        "**encoding:** utf-8  \n",
        "**Órgão - Esfera:**\tFederal  \n",
        "**Órgão - Poder:**\tExecutivo  \n",
        "\n",
        "\n",
        "\n",
        "\n",
        "ACESSO EM 15/02/2023"
      ],
      "metadata": {
        "id": "hnPUfWM7sLjM"
      }
    },
    {
      "cell_type": "code",
      "source": [
        "#acesso aos dados no drive\n",
        "boletim = pd.read_csv('/content/drive/MyDrive/CAR_RL_Labrea/DADOS/imoveis_cadastrados_por_municipio.csv', sep=';')\n",
        "boletim.head()"
      ],
      "metadata": {
        "colab": {
          "base_uri": "https://localhost:8080/",
          "height": 206
        },
        "id": "nJQk24PWtwZc",
        "outputId": "b4658b3b-d361-4cbb-a17e-07e20d4b2bd2"
      },
      "execution_count": null,
      "outputs": [
        {
          "output_type": "execute_result",
          "data": {
            "text/plain": [
              "   uf       municipio  codigo_ibge  numero_de_cadastros  area_cadastrada\n",
              "0  SP  Vitória Brasil      3556958                  203        4804.3640\n",
              "1  PI   Avelino Lopes      2201101                 1416       79895.9621\n",
              "2  MG     Lima Duarte      3138609                 1838       77306.1967\n",
              "3  SP          Tejupá      3554201                  574       30527.3497\n",
              "4  BA           Ubatã      2932309                  217        6755.2394"
            ],
            "text/html": [
              "\n",
              "  <div id=\"df-26e98f15-dea1-4cca-ac96-dfa52cf2a097\">\n",
              "    <div class=\"colab-df-container\">\n",
              "      <div>\n",
              "<style scoped>\n",
              "    .dataframe tbody tr th:only-of-type {\n",
              "        vertical-align: middle;\n",
              "    }\n",
              "\n",
              "    .dataframe tbody tr th {\n",
              "        vertical-align: top;\n",
              "    }\n",
              "\n",
              "    .dataframe thead th {\n",
              "        text-align: right;\n",
              "    }\n",
              "</style>\n",
              "<table border=\"1\" class=\"dataframe\">\n",
              "  <thead>\n",
              "    <tr style=\"text-align: right;\">\n",
              "      <th></th>\n",
              "      <th>uf</th>\n",
              "      <th>municipio</th>\n",
              "      <th>codigo_ibge</th>\n",
              "      <th>numero_de_cadastros</th>\n",
              "      <th>area_cadastrada</th>\n",
              "    </tr>\n",
              "  </thead>\n",
              "  <tbody>\n",
              "    <tr>\n",
              "      <th>0</th>\n",
              "      <td>SP</td>\n",
              "      <td>Vitória Brasil</td>\n",
              "      <td>3556958</td>\n",
              "      <td>203</td>\n",
              "      <td>4804.3640</td>\n",
              "    </tr>\n",
              "    <tr>\n",
              "      <th>1</th>\n",
              "      <td>PI</td>\n",
              "      <td>Avelino Lopes</td>\n",
              "      <td>2201101</td>\n",
              "      <td>1416</td>\n",
              "      <td>79895.9621</td>\n",
              "    </tr>\n",
              "    <tr>\n",
              "      <th>2</th>\n",
              "      <td>MG</td>\n",
              "      <td>Lima Duarte</td>\n",
              "      <td>3138609</td>\n",
              "      <td>1838</td>\n",
              "      <td>77306.1967</td>\n",
              "    </tr>\n",
              "    <tr>\n",
              "      <th>3</th>\n",
              "      <td>SP</td>\n",
              "      <td>Tejupá</td>\n",
              "      <td>3554201</td>\n",
              "      <td>574</td>\n",
              "      <td>30527.3497</td>\n",
              "    </tr>\n",
              "    <tr>\n",
              "      <th>4</th>\n",
              "      <td>BA</td>\n",
              "      <td>Ubatã</td>\n",
              "      <td>2932309</td>\n",
              "      <td>217</td>\n",
              "      <td>6755.2394</td>\n",
              "    </tr>\n",
              "  </tbody>\n",
              "</table>\n",
              "</div>\n",
              "      <button class=\"colab-df-convert\" onclick=\"convertToInteractive('df-26e98f15-dea1-4cca-ac96-dfa52cf2a097')\"\n",
              "              title=\"Convert this dataframe to an interactive table.\"\n",
              "              style=\"display:none;\">\n",
              "        \n",
              "  <svg xmlns=\"http://www.w3.org/2000/svg\" height=\"24px\"viewBox=\"0 0 24 24\"\n",
              "       width=\"24px\">\n",
              "    <path d=\"M0 0h24v24H0V0z\" fill=\"none\"/>\n",
              "    <path d=\"M18.56 5.44l.94 2.06.94-2.06 2.06-.94-2.06-.94-.94-2.06-.94 2.06-2.06.94zm-11 1L8.5 8.5l.94-2.06 2.06-.94-2.06-.94L8.5 2.5l-.94 2.06-2.06.94zm10 10l.94 2.06.94-2.06 2.06-.94-2.06-.94-.94-2.06-.94 2.06-2.06.94z\"/><path d=\"M17.41 7.96l-1.37-1.37c-.4-.4-.92-.59-1.43-.59-.52 0-1.04.2-1.43.59L10.3 9.45l-7.72 7.72c-.78.78-.78 2.05 0 2.83L4 21.41c.39.39.9.59 1.41.59.51 0 1.02-.2 1.41-.59l7.78-7.78 2.81-2.81c.8-.78.8-2.07 0-2.86zM5.41 20L4 18.59l7.72-7.72 1.47 1.35L5.41 20z\"/>\n",
              "  </svg>\n",
              "      </button>\n",
              "      \n",
              "  <style>\n",
              "    .colab-df-container {\n",
              "      display:flex;\n",
              "      flex-wrap:wrap;\n",
              "      gap: 12px;\n",
              "    }\n",
              "\n",
              "    .colab-df-convert {\n",
              "      background-color: #E8F0FE;\n",
              "      border: none;\n",
              "      border-radius: 50%;\n",
              "      cursor: pointer;\n",
              "      display: none;\n",
              "      fill: #1967D2;\n",
              "      height: 32px;\n",
              "      padding: 0 0 0 0;\n",
              "      width: 32px;\n",
              "    }\n",
              "\n",
              "    .colab-df-convert:hover {\n",
              "      background-color: #E2EBFA;\n",
              "      box-shadow: 0px 1px 2px rgba(60, 64, 67, 0.3), 0px 1px 3px 1px rgba(60, 64, 67, 0.15);\n",
              "      fill: #174EA6;\n",
              "    }\n",
              "\n",
              "    [theme=dark] .colab-df-convert {\n",
              "      background-color: #3B4455;\n",
              "      fill: #D2E3FC;\n",
              "    }\n",
              "\n",
              "    [theme=dark] .colab-df-convert:hover {\n",
              "      background-color: #434B5C;\n",
              "      box-shadow: 0px 1px 3px 1px rgba(0, 0, 0, 0.15);\n",
              "      filter: drop-shadow(0px 1px 2px rgba(0, 0, 0, 0.3));\n",
              "      fill: #FFFFFF;\n",
              "    }\n",
              "  </style>\n",
              "\n",
              "      <script>\n",
              "        const buttonEl =\n",
              "          document.querySelector('#df-26e98f15-dea1-4cca-ac96-dfa52cf2a097 button.colab-df-convert');\n",
              "        buttonEl.style.display =\n",
              "          google.colab.kernel.accessAllowed ? 'block' : 'none';\n",
              "\n",
              "        async function convertToInteractive(key) {\n",
              "          const element = document.querySelector('#df-26e98f15-dea1-4cca-ac96-dfa52cf2a097');\n",
              "          const dataTable =\n",
              "            await google.colab.kernel.invokeFunction('convertToInteractive',\n",
              "                                                     [key], {});\n",
              "          if (!dataTable) return;\n",
              "\n",
              "          const docLinkHtml = 'Like what you see? Visit the ' +\n",
              "            '<a target=\"_blank\" href=https://colab.research.google.com/notebooks/data_table.ipynb>data table notebook</a>'\n",
              "            + ' to learn more about interactive tables.';\n",
              "          element.innerHTML = '';\n",
              "          dataTable['output_type'] = 'display_data';\n",
              "          await google.colab.output.renderOutput(dataTable, element);\n",
              "          const docLink = document.createElement('div');\n",
              "          docLink.innerHTML = docLinkHtml;\n",
              "          element.appendChild(docLink);\n",
              "        }\n",
              "      </script>\n",
              "    </div>\n",
              "  </div>\n",
              "  "
            ]
          },
          "metadata": {},
          "execution_count": 12
        }
      ]
    },
    {
      "cell_type": "code",
      "source": [
        "boletim.dtypes.to_frame()"
      ],
      "metadata": {
        "colab": {
          "base_uri": "https://localhost:8080/",
          "height": 206
        },
        "id": "A0ruvM_kyswU",
        "outputId": "90abc420-a9f9-47fd-d120-502c937e2e37"
      },
      "execution_count": null,
      "outputs": [
        {
          "output_type": "execute_result",
          "data": {
            "text/plain": [
              "                           0\n",
              "uf                    object\n",
              "municipio             object\n",
              "codigo_ibge            int64\n",
              "numero_de_cadastros    int64\n",
              "area_cadastrada      float64"
            ],
            "text/html": [
              "\n",
              "  <div id=\"df-b21f76c4-df4f-47f0-a2f7-a1b8aa299e0a\">\n",
              "    <div class=\"colab-df-container\">\n",
              "      <div>\n",
              "<style scoped>\n",
              "    .dataframe tbody tr th:only-of-type {\n",
              "        vertical-align: middle;\n",
              "    }\n",
              "\n",
              "    .dataframe tbody tr th {\n",
              "        vertical-align: top;\n",
              "    }\n",
              "\n",
              "    .dataframe thead th {\n",
              "        text-align: right;\n",
              "    }\n",
              "</style>\n",
              "<table border=\"1\" class=\"dataframe\">\n",
              "  <thead>\n",
              "    <tr style=\"text-align: right;\">\n",
              "      <th></th>\n",
              "      <th>0</th>\n",
              "    </tr>\n",
              "  </thead>\n",
              "  <tbody>\n",
              "    <tr>\n",
              "      <th>uf</th>\n",
              "      <td>object</td>\n",
              "    </tr>\n",
              "    <tr>\n",
              "      <th>municipio</th>\n",
              "      <td>object</td>\n",
              "    </tr>\n",
              "    <tr>\n",
              "      <th>codigo_ibge</th>\n",
              "      <td>int64</td>\n",
              "    </tr>\n",
              "    <tr>\n",
              "      <th>numero_de_cadastros</th>\n",
              "      <td>int64</td>\n",
              "    </tr>\n",
              "    <tr>\n",
              "      <th>area_cadastrada</th>\n",
              "      <td>float64</td>\n",
              "    </tr>\n",
              "  </tbody>\n",
              "</table>\n",
              "</div>\n",
              "      <button class=\"colab-df-convert\" onclick=\"convertToInteractive('df-b21f76c4-df4f-47f0-a2f7-a1b8aa299e0a')\"\n",
              "              title=\"Convert this dataframe to an interactive table.\"\n",
              "              style=\"display:none;\">\n",
              "        \n",
              "  <svg xmlns=\"http://www.w3.org/2000/svg\" height=\"24px\"viewBox=\"0 0 24 24\"\n",
              "       width=\"24px\">\n",
              "    <path d=\"M0 0h24v24H0V0z\" fill=\"none\"/>\n",
              "    <path d=\"M18.56 5.44l.94 2.06.94-2.06 2.06-.94-2.06-.94-.94-2.06-.94 2.06-2.06.94zm-11 1L8.5 8.5l.94-2.06 2.06-.94-2.06-.94L8.5 2.5l-.94 2.06-2.06.94zm10 10l.94 2.06.94-2.06 2.06-.94-2.06-.94-.94-2.06-.94 2.06-2.06.94z\"/><path d=\"M17.41 7.96l-1.37-1.37c-.4-.4-.92-.59-1.43-.59-.52 0-1.04.2-1.43.59L10.3 9.45l-7.72 7.72c-.78.78-.78 2.05 0 2.83L4 21.41c.39.39.9.59 1.41.59.51 0 1.02-.2 1.41-.59l7.78-7.78 2.81-2.81c.8-.78.8-2.07 0-2.86zM5.41 20L4 18.59l7.72-7.72 1.47 1.35L5.41 20z\"/>\n",
              "  </svg>\n",
              "      </button>\n",
              "      \n",
              "  <style>\n",
              "    .colab-df-container {\n",
              "      display:flex;\n",
              "      flex-wrap:wrap;\n",
              "      gap: 12px;\n",
              "    }\n",
              "\n",
              "    .colab-df-convert {\n",
              "      background-color: #E8F0FE;\n",
              "      border: none;\n",
              "      border-radius: 50%;\n",
              "      cursor: pointer;\n",
              "      display: none;\n",
              "      fill: #1967D2;\n",
              "      height: 32px;\n",
              "      padding: 0 0 0 0;\n",
              "      width: 32px;\n",
              "    }\n",
              "\n",
              "    .colab-df-convert:hover {\n",
              "      background-color: #E2EBFA;\n",
              "      box-shadow: 0px 1px 2px rgba(60, 64, 67, 0.3), 0px 1px 3px 1px rgba(60, 64, 67, 0.15);\n",
              "      fill: #174EA6;\n",
              "    }\n",
              "\n",
              "    [theme=dark] .colab-df-convert {\n",
              "      background-color: #3B4455;\n",
              "      fill: #D2E3FC;\n",
              "    }\n",
              "\n",
              "    [theme=dark] .colab-df-convert:hover {\n",
              "      background-color: #434B5C;\n",
              "      box-shadow: 0px 1px 3px 1px rgba(0, 0, 0, 0.15);\n",
              "      filter: drop-shadow(0px 1px 2px rgba(0, 0, 0, 0.3));\n",
              "      fill: #FFFFFF;\n",
              "    }\n",
              "  </style>\n",
              "\n",
              "      <script>\n",
              "        const buttonEl =\n",
              "          document.querySelector('#df-b21f76c4-df4f-47f0-a2f7-a1b8aa299e0a button.colab-df-convert');\n",
              "        buttonEl.style.display =\n",
              "          google.colab.kernel.accessAllowed ? 'block' : 'none';\n",
              "\n",
              "        async function convertToInteractive(key) {\n",
              "          const element = document.querySelector('#df-b21f76c4-df4f-47f0-a2f7-a1b8aa299e0a');\n",
              "          const dataTable =\n",
              "            await google.colab.kernel.invokeFunction('convertToInteractive',\n",
              "                                                     [key], {});\n",
              "          if (!dataTable) return;\n",
              "\n",
              "          const docLinkHtml = 'Like what you see? Visit the ' +\n",
              "            '<a target=\"_blank\" href=https://colab.research.google.com/notebooks/data_table.ipynb>data table notebook</a>'\n",
              "            + ' to learn more about interactive tables.';\n",
              "          element.innerHTML = '';\n",
              "          dataTable['output_type'] = 'display_data';\n",
              "          await google.colab.output.renderOutput(dataTable, element);\n",
              "          const docLink = document.createElement('div');\n",
              "          docLink.innerHTML = docLinkHtml;\n",
              "          element.appendChild(docLink);\n",
              "        }\n",
              "      </script>\n",
              "    </div>\n",
              "  </div>\n",
              "  "
            ]
          },
          "metadata": {},
          "execution_count": 13
        }
      ]
    },
    {
      "cell_type": "code",
      "source": [
        "#acesso aos dados via url\n",
        "\n",
        "# url = 'https://dados.agricultura.gov.br/dataset/58bdc09c-9778-42b9-8fce-7d5c2c4fa211/resource/b89ffa6b-cf9a-4fb6-9f94-c9fcbfc0a6d7/download/imoveis_cadastrados_por_municipio.csv'\n",
        "# response = requests.get(url)\n",
        "# content = response.content\n",
        "# boletim_url = pd.read_csv(url,sep=';')\n",
        "# boletim_url.head()"
      ],
      "metadata": {
        "id": "WVlUI8pjuQ8E"
      },
      "execution_count": null,
      "outputs": []
    },
    {
      "cell_type": "markdown",
      "source": [
        "**DADOS CAR POR MUNICÍPIO**  \n",
        "https://www.car.gov.br/publico/imoveis/index\n",
        "\n",
        "ACESSO EM 14/03/2023"
      ],
      "metadata": {
        "id": "AbkZnnFjiPr4"
      }
    },
    {
      "cell_type": "code",
      "source": [
        "import glob\n",
        "import zipfile\n",
        "import shutil"
      ],
      "metadata": {
        "id": "J8knOI2DoRLG"
      },
      "execution_count": null,
      "outputs": []
    },
    {
      "cell_type": "code",
      "source": [
        "if not os.path.exists('/content/drive/MyDrive/CAR_RL_Labrea/OUTPUT/RESERVA_LEGAL/RESERVA_LEGAL_UNZIPPED'):\n",
        "  os.makedirs('/content/drive/MyDrive/CAR_RL_Labrea/OUTPUT/RESERVA_LEGAL/RESERVA_LEGAL_UNZIPPED')\n",
        "\n",
        "from pathlib import Path\n",
        "Path('./').mkdir(parents=True, exist_ok=True)"
      ],
      "metadata": {
        "id": "9al2Ao04qEjv"
      },
      "execution_count": null,
      "outputs": []
    },
    {
      "cell_type": "code",
      "source": [
        "if not os.path.exists('/content/drive/MyDrive/CAR_RL_Labrea/OUTPUT/AREA_IMOVEL/AREA_IMOVEL_UNZIPPED'):\n",
        "  os.makedirs('/content/drive/MyDrive/CAR_RL_Labrea/OUTPUT/AREA_IMOVEL/AREA_IMOVEL_UNZIPPED')\n",
        "\n",
        "Path('./').mkdir(parents=True, exist_ok=True)"
      ],
      "metadata": {
        "id": "HVXukIlLMXU-"
      },
      "execution_count": null,
      "outputs": []
    },
    {
      "cell_type": "code",
      "source": [
        "files_path = '/content/drive/MyDrive/CAR_RL_Labrea/DADOS/CAR/*'\n",
        "files_list = glob.glob(files_path)\n",
        "\n",
        "print(len(files_list))\n",
        "files_list"
      ],
      "metadata": {
        "colab": {
          "base_uri": "https://localhost:8080/"
        },
        "id": "tkO_RxHp0MdL",
        "outputId": "5212d646-a327-4d7b-9ad5-d8e4d1b3c4f1"
      },
      "execution_count": null,
      "outputs": [
        {
          "output_type": "stream",
          "name": "stdout",
          "text": [
            "1\n"
          ]
        },
        {
          "output_type": "execute_result",
          "data": {
            "text/plain": [
              "['/content/drive/MyDrive/CAR_RL_Labrea/DADOS/CAR/SHAPE_1302405.zip']"
            ]
          },
          "metadata": {},
          "execution_count": 17
        }
      ]
    },
    {
      "cell_type": "markdown",
      "source": [
        "**Organização dos dados de RESERVA LEGAL**"
      ],
      "metadata": {
        "id": "FLBuVlV-LQgQ"
      }
    },
    {
      "cell_type": "code",
      "source": [
        "my_dir = '/content/drive/MyDrive/CAR_RL_Labrea/OUTPUT/RESERVA_LEGAL'\n",
        "\n",
        "for i in files_list:\n",
        "  with zipfile.ZipFile(i, mode=\"r\") as archive:\n",
        "    cod_mun = i.replace('/content/drive/MyDrive/CAR_RL_Labrea/DADOS/CAR/SHAPE_','RL_')\n",
        "    for member in archive.namelist():\n",
        "      if member == 'RESERVA_LEGAL.zip':\n",
        "        source = archive.open(member)\n",
        "        target = open(os.path.join(my_dir, cod_mun), 'wb')\n",
        "        with source, target:\n",
        "          shutil.copyfileobj(source, target)\n",
        "          print(cod_mun)\n"
      ],
      "metadata": {
        "colab": {
          "base_uri": "https://localhost:8080/"
        },
        "id": "ydNXfCRy1ltE",
        "outputId": "2e8eb805-6195-4bc6-ae84-562366b9e6d9"
      },
      "execution_count": null,
      "outputs": [
        {
          "output_type": "stream",
          "name": "stdout",
          "text": [
            "RL_1302405.zip\n"
          ]
        }
      ]
    },
    {
      "cell_type": "code",
      "source": [
        "files_path_RL = '/content/drive/MyDrive/CAR_RL_Labrea/OUTPUT/RESERVA_LEGAL/RL*'\n",
        "files_list_RL = glob.glob(files_path_RL)\n",
        "\n",
        "print(len(files_list_RL))\n",
        "files_list_RL"
      ],
      "metadata": {
        "colab": {
          "base_uri": "https://localhost:8080/"
        },
        "id": "dSu3asxO4A27",
        "outputId": "866c6be2-dcde-40a7-f2a5-f977dddc9f3b"
      },
      "execution_count": null,
      "outputs": [
        {
          "output_type": "stream",
          "name": "stdout",
          "text": [
            "1\n"
          ]
        },
        {
          "output_type": "execute_result",
          "data": {
            "text/plain": [
              "['/content/drive/MyDrive/CAR_RL_Labrea/OUTPUT/RESERVA_LEGAL/RL_1302405.zip']"
            ]
          },
          "metadata": {},
          "execution_count": 20
        }
      ]
    },
    {
      "cell_type": "code",
      "source": [
        "for i in files_list_RL:\n",
        "  unzip = f'{i}!/RESERVA_LEGAL.shp'\n",
        "  rl = gpd.read_file(unzip)\n",
        "  rl_reproj = rl.to_crs(albers)\n",
        "  name = i.replace('/content/drive/MyDrive/CAR_RL_Labrea/OUTPUT/RESERVA_LEGAL/','').replace('.zip','')\n",
        "  rl_reproj.to_file(f'/content/drive/MyDrive/CAR_RL_Labrea/OUTPUT/RESERVA_LEGAL/RESERVA_LEGAL_UNZIPPED/{name}_102033.shp')\n",
        "  print(name)"
      ],
      "metadata": {
        "id": "RJFf_sZb0Qjs",
        "colab": {
          "base_uri": "https://localhost:8080/"
        },
        "outputId": "04a81855-9f23-42c0-de1f-facb36624759"
      },
      "execution_count": null,
      "outputs": [
        {
          "output_type": "stream",
          "name": "stdout",
          "text": [
            "RL_1302405\n"
          ]
        }
      ]
    },
    {
      "cell_type": "code",
      "source": [
        "if not os.path.exists('/content/drive/MyDrive/CAR_RL_Labrea/OUTPUT/RL_CSV'):\n",
        "  os.makedirs('/content/drive/MyDrive/CAR_RL_Labrea/OUTPUT/RL_CSV')\n",
        "\n",
        "Path('./').mkdir(parents=True, exist_ok=True)"
      ],
      "metadata": {
        "id": "uEbJSIn4TapO"
      },
      "execution_count": null,
      "outputs": []
    },
    {
      "cell_type": "code",
      "source": [
        "files_list_RL"
      ],
      "metadata": {
        "colab": {
          "base_uri": "https://localhost:8080/"
        },
        "id": "ha83RN9eQjwZ",
        "outputId": "ae1b6159-29f7-4c79-8e3d-aae3942867ba"
      },
      "execution_count": null,
      "outputs": [
        {
          "output_type": "execute_result",
          "data": {
            "text/plain": [
              "['/content/drive/MyDrive/CAR_RL_Labrea/OUTPUT/RESERVA_LEGAL/RL_1302405.zip']"
            ]
          },
          "metadata": {},
          "execution_count": 23
        }
      ]
    },
    {
      "cell_type": "code",
      "source": [
        "for i in files_list_RL:\n",
        "  gdf = gpd.read_file(i)\n",
        "  cdmun = i.replace('/content/drive/MyDrive/CAR_RL_Labrea/OUTPUT/RESERVA_LEGAL/RL_','').replace('.zip','')\n",
        "  gdf['cd_mun']=cdmun\n",
        "  gdf.to_csv(f'/content/drive/MyDrive/CAR_RL_Labrea/OUTPUT/RL_CSV/RL_{cdmun}.csv')\n",
        "  print(cdmun)"
      ],
      "metadata": {
        "colab": {
          "base_uri": "https://localhost:8080/"
        },
        "id": "-r90L1nEnz_F",
        "outputId": "e67386b5-6ab0-41d6-d164-51c7da3f551f"
      },
      "execution_count": null,
      "outputs": [
        {
          "output_type": "stream",
          "name": "stdout",
          "text": [
            "1302405\n"
          ]
        }
      ]
    },
    {
      "cell_type": "markdown",
      "source": [
        "**Organização dos dados da ÁREA DO IMÓVEL**"
      ],
      "metadata": {
        "id": "s_PjxVwpLbwE"
      }
    },
    {
      "cell_type": "code",
      "source": [
        "my_dir = '/content/drive/MyDrive/CAR_RL_Labrea/OUTPUT/AREA_IMOVEL'\n",
        "\n",
        "for i in files_list:\n",
        "  with zipfile.ZipFile(i, mode=\"r\") as archive:\n",
        "    cod_mun = i.replace('/content/drive/MyDrive/CAR_RL_Labrea/DADOS/CAR/SHAPE_','IM_')\n",
        "    for member in archive.namelist():\n",
        "      if member == 'AREA_IMOVEL.zip':\n",
        "        source = archive.open(member)\n",
        "        target = open(os.path.join(my_dir, cod_mun), 'wb')\n",
        "        with source, target:\n",
        "          shutil.copyfileobj(source, target)\n",
        "          print(cod_mun)"
      ],
      "metadata": {
        "colab": {
          "base_uri": "https://localhost:8080/"
        },
        "id": "BHC_g2STL7W3",
        "outputId": "5f37a741-9ff7-42e5-d4ef-9b342c3fa7ba"
      },
      "execution_count": null,
      "outputs": [
        {
          "output_type": "stream",
          "name": "stdout",
          "text": [
            "IM_1302405.zip\n"
          ]
        }
      ]
    },
    {
      "cell_type": "code",
      "source": [
        "files_path_IM = '/content/drive/MyDrive/CAR_RL_Labrea/OUTPUT/AREA_IMOVEL/IM_*'\n",
        "files_list_IM = glob.glob(files_path_IM)\n",
        "\n",
        "print(len(files_list_IM))\n",
        "files_list_IM"
      ],
      "metadata": {
        "colab": {
          "base_uri": "https://localhost:8080/"
        },
        "id": "VwC1fQX6RfbB",
        "outputId": "81f8feee-a6e9-4bec-da74-34128ff1b8fb"
      },
      "execution_count": null,
      "outputs": [
        {
          "output_type": "stream",
          "name": "stdout",
          "text": [
            "1\n"
          ]
        },
        {
          "output_type": "execute_result",
          "data": {
            "text/plain": [
              "['/content/drive/MyDrive/CAR_RL_Labrea/OUTPUT/AREA_IMOVEL/IM_1302405.zip']"
            ]
          },
          "metadata": {},
          "execution_count": 26
        }
      ]
    },
    {
      "cell_type": "code",
      "source": [
        "for i in files_list_IM:\n",
        "  unzip = f'{i}!/AREA_IMOVEL.shp'\n",
        "  im = gpd.read_file(unzip)\n",
        "  im_reproj = im.to_crs(albers)\n",
        "  name = i.replace('/content/drive/MyDrive/CAR_RL_Labrea/OUTPUT/AREA_IMOVEL/','').replace('.zip','')\n",
        "  im_reproj.to_file(f'/content/drive/MyDrive/CAR_RL_Labrea/OUTPUT/AREA_IMOVEL/AREA_IMOVEL_UNZIPPED/{name}_102033.shp')\n",
        "  print(name)"
      ],
      "metadata": {
        "colab": {
          "base_uri": "https://localhost:8080/"
        },
        "id": "yYegtbPDNDbV",
        "outputId": "645115f8-6ae5-4d35-b376-910978067379"
      },
      "execution_count": null,
      "outputs": [
        {
          "output_type": "stream",
          "name": "stdout",
          "text": [
            "IM_1302405\n"
          ]
        }
      ]
    },
    {
      "cell_type": "code",
      "source": [
        "files_path_IM = '/content/drive/MyDrive/CAR_RL_Labrea/OUTPUT/AREA_IMOVEL/AREA_IMOVEL_UNZIPPED/*shp'\n",
        "files_list_IM = glob.glob(files_path_IM)\n",
        "\n",
        "print(len(files_list_IM))\n",
        "files_list_IM"
      ],
      "metadata": {
        "colab": {
          "base_uri": "https://localhost:8080/"
        },
        "id": "YC0dCHn-PNog",
        "outputId": "a2d1e6c8-ef2c-4da0-f03e-ab18ab29368c"
      },
      "execution_count": null,
      "outputs": [
        {
          "output_type": "stream",
          "name": "stdout",
          "text": [
            "1\n"
          ]
        },
        {
          "output_type": "execute_result",
          "data": {
            "text/plain": [
              "['/content/drive/MyDrive/CAR_RL_Labrea/OUTPUT/AREA_IMOVEL/AREA_IMOVEL_UNZIPPED/IM_1302405_102033.shp']"
            ]
          },
          "metadata": {},
          "execution_count": 28
        }
      ]
    },
    {
      "cell_type": "code",
      "source": [
        "if not os.path.exists('/content/drive/MyDrive/CAR_RL_Labrea/OUTPUT/IM_CSV'):\n",
        "  os.makedirs('/content/drive/MyDrive/CAR_RL_Labrea/OUTPUT/IM_CSV')\n",
        "\n",
        "from pathlib import Path\n",
        "Path('./').mkdir(parents=True, exist_ok=True)"
      ],
      "metadata": {
        "id": "JDWEK8wPT8s0"
      },
      "execution_count": null,
      "outputs": []
    },
    {
      "cell_type": "code",
      "source": [
        "for i in files_list_IM:\n",
        "  gdf = gpd.read_file(i)\n",
        "  cdmun = i.replace('/content/drive/MyDrive/CAR_RL_Labrea/OUTPUT/AREA_IMOVEL/AREA_IMOVEL_UNZIPPED/','').replace('_IM_102033.shp','')\n",
        "  gdf['cd_mun']=cdmun\n",
        "  gdf.to_csv(f'/content/drive/MyDrive/CAR_RL_Labrea/OUTPUT/IM_CSV/IMOVEL_{cdmun}.csv', encoding = 'latin1')\n",
        "  print(cdmun)"
      ],
      "metadata": {
        "colab": {
          "base_uri": "https://localhost:8080/"
        },
        "id": "noQm7AqZPebW",
        "outputId": "b703db22-2657-494e-b5c0-b9af76cd5bb4"
      },
      "execution_count": null,
      "outputs": [
        {
          "output_type": "stream",
          "name": "stdout",
          "text": [
            "IM_1302405_102033.shp\n"
          ]
        }
      ]
    },
    {
      "cell_type": "markdown",
      "source": [
        "**Cobertura da terra (MapBiomas)**  \n",
        "Coleção 7  \n",
        "ACESSO EM 11/03/2023"
      ],
      "metadata": {
        "id": "UnBRrVpei92t"
      }
    },
    {
      "cell_type": "code",
      "source": [
        "mb_path = '/content/drive/MyDrive/CAR_RL_Labrea/DADOS/MAPBIOMAS/*tif'\n",
        "mb_list = glob.glob(mb_path)\n",
        "\n",
        "mb_list"
      ],
      "metadata": {
        "id": "-cpVcAx25dBh",
        "colab": {
          "base_uri": "https://localhost:8080/"
        },
        "outputId": "c266749b-ed2a-4400-a2c8-4101bf846ed6"
      },
      "execution_count": null,
      "outputs": [
        {
          "output_type": "execute_result",
          "data": {
            "text/plain": [
              "['/content/drive/MyDrive/CAR_RL_Labrea/DADOS/MAPBIOMAS/mapbiomas-brazil-collection-70-labrea-30km-2020.tif',\n",
              " '/content/drive/MyDrive/CAR_RL_Labrea/DADOS/MAPBIOMAS/mapbiomas-brazil-collection-70-labrea-30km-2008.tif',\n",
              " '/content/drive/MyDrive/CAR_RL_Labrea/DADOS/MAPBIOMAS/mapbiomas-brazil-collection-70-labrea-30km-2012.tif',\n",
              " '/content/drive/MyDrive/CAR_RL_Labrea/DADOS/MAPBIOMAS/mapbiomas-brazil-collection-70-labrea-30km-2016.tif']"
            ]
          },
          "metadata": {},
          "execution_count": 25
        }
      ]
    },
    {
      "cell_type": "code",
      "source": [
        "!pip install rasterio\n",
        "import rasterio as rio\n",
        "from rasterio.warp import reproject, Resampling, calculate_default_transform\n"
      ],
      "metadata": {
        "id": "iZyYgn0BAZRH",
        "colab": {
          "base_uri": "https://localhost:8080/"
        },
        "outputId": "3cbbefab-4b50-4a62-feb0-34416086dd04"
      },
      "execution_count": null,
      "outputs": [
        {
          "output_type": "stream",
          "name": "stdout",
          "text": [
            "Looking in indexes: https://pypi.org/simple, https://us-python.pkg.dev/colab-wheels/public/simple/\n",
            "Collecting rasterio\n",
            "  Downloading rasterio-1.3.6-cp39-cp39-manylinux_2_17_x86_64.manylinux2014_x86_64.whl (20.1 MB)\n",
            "\u001b[2K     \u001b[90m━━━━━━━━━━━━━━━━━━━━━━━━━━━━━━━━━━━━━━━━\u001b[0m \u001b[32m20.1/20.1 MB\u001b[0m \u001b[31m58.7 MB/s\u001b[0m eta \u001b[36m0:00:00\u001b[0m\n",
            "\u001b[?25hRequirement already satisfied: click>=4.0 in /usr/local/lib/python3.9/dist-packages (from rasterio) (8.1.3)\n",
            "Requirement already satisfied: attrs in /usr/local/lib/python3.9/dist-packages (from rasterio) (22.2.0)\n",
            "Requirement already satisfied: setuptools in /usr/local/lib/python3.9/dist-packages (from rasterio) (67.6.0)\n",
            "Requirement already satisfied: cligj>=0.5 in /usr/local/lib/python3.9/dist-packages (from rasterio) (0.7.2)\n",
            "Requirement already satisfied: certifi in /usr/local/lib/python3.9/dist-packages (from rasterio) (2022.12.7)\n",
            "Requirement already satisfied: numpy>=1.18 in /usr/local/lib/python3.9/dist-packages (from rasterio) (1.22.4)\n",
            "Requirement already satisfied: click-plugins in /usr/local/lib/python3.9/dist-packages (from rasterio) (1.1.1)\n",
            "Collecting snuggs>=1.4.1\n",
            "  Downloading snuggs-1.4.7-py3-none-any.whl (5.4 kB)\n",
            "Collecting affine\n",
            "  Downloading affine-2.4.0-py3-none-any.whl (15 kB)\n",
            "Requirement already satisfied: pyparsing>=2.1.6 in /usr/local/lib/python3.9/dist-packages (from snuggs>=1.4.1->rasterio) (3.0.9)\n",
            "Installing collected packages: snuggs, affine, rasterio\n",
            "Successfully installed affine-2.4.0 rasterio-1.3.6 snuggs-1.4.7\n"
          ]
        }
      ]
    },
    {
      "cell_type": "code",
      "source": [
        "if not os.path.exists('/content/drive/MyDrive/CAR_RL_Labrea/OUTPUT/MAPBIOMAS'):\n",
        "  os.makedirs('/content/drive/MyDrive/CAR_RL_Labrea/OUTPUT/MAPBIOMAS')\n",
        "\n",
        "Path('./').mkdir(parents=True, exist_ok=True)"
      ],
      "metadata": {
        "id": "2nFAVSguk1UC"
      },
      "execution_count": null,
      "outputs": []
    },
    {
      "cell_type": "code",
      "source": [
        "start = time.time()\n",
        "\n",
        "for i in mb_list:\n",
        "  with rio.open(i) as src:\n",
        "    src_transform = src.transform\n",
        "\n",
        "    dst_transform, width, height = calculate_default_transform(\n",
        "    src.crs,\n",
        "    albers,\n",
        "    src.width,\n",
        "    src.height,\n",
        "    *src.bounds\n",
        "    )\n",
        "\n",
        "    dst_kwargs = src.meta.copy()\n",
        "    dst_kwargs.update({\n",
        "        'crs': albers,\n",
        "        'transform': dst_transform,\n",
        "        'width': width,\n",
        "        'height': height,\n",
        "        # 'nodata': np.nan\n",
        "        })\n",
        "\n",
        "\n",
        "    name = i.replace('/content/drive/MyDrive/CAR_RL_Labrea/DADOS/MAPBIOMAS/mapbiomas-brazil-collection-70-labrea-30km-','').replace('.tif','')\n",
        "    path = f'/content/drive/MyDrive/CAR_RL_Labrea/OUTPUT/MAPBIOMAS/mapbiomas_{name}_102033.tif'\n",
        "    with rio.open(path, \"w\", **dst_kwargs) as dst:\n",
        "        # iterate through bands\n",
        "\n",
        "        reproject(\n",
        "            source=rio.band(src, 1),\n",
        "            destination=rio.band(dst, 1),\n",
        "            src_transform=src.transform,\n",
        "            src_crs=src.crs,\n",
        "            dst_transform=dst_transform,\n",
        "            dst_crs=albers,\n",
        "            resampling=Resampling.nearest,\n",
        "            )\n",
        "        print(name)\n",
        "\n",
        "\n",
        "end= time.time()\n",
        "duration = end -start\n",
        "\n",
        "print(f'O processo de reprojeção das imagens durou {duration} segundos.')"
      ],
      "metadata": {
        "id": "W_3EWrGnAfto",
        "colab": {
          "base_uri": "https://localhost:8080/"
        },
        "outputId": "3b616872-24b2-4481-a29c-b0a8195238e9"
      },
      "execution_count": null,
      "outputs": [
        {
          "output_type": "stream",
          "name": "stdout",
          "text": [
            "2020\n",
            "2008\n",
            "2012\n",
            "2016\n",
            "O processo de reprojeção das imagens durou 24.58094334602356 segundos.\n"
          ]
        }
      ]
    },
    {
      "cell_type": "code",
      "source": [
        "mb_path = '/content/drive/MyDrive/CAR_RL_Labrea/OUTPUT/MAPBIOMAS/*102033.tif'\n",
        "mb_list = glob.glob(mb_path)\n",
        "\n",
        "mb_list"
      ],
      "metadata": {
        "id": "LMJN-D9OE8xo",
        "colab": {
          "base_uri": "https://localhost:8080/"
        },
        "outputId": "d6627f8c-5f80-4ca8-9f29-f21c7f06f7f3"
      },
      "execution_count": null,
      "outputs": [
        {
          "output_type": "execute_result",
          "data": {
            "text/plain": [
              "['/content/drive/MyDrive/CAR_RL_Labrea/OUTPUT/MAPBIOMAS/mapbiomas_2020_102033.tif',\n",
              " '/content/drive/MyDrive/CAR_RL_Labrea/OUTPUT/MAPBIOMAS/mapbiomas_2008_102033.tif',\n",
              " '/content/drive/MyDrive/CAR_RL_Labrea/OUTPUT/MAPBIOMAS/mapbiomas_2012_102033.tif',\n",
              " '/content/drive/MyDrive/CAR_RL_Labrea/OUTPUT/MAPBIOMAS/mapbiomas_2016_102033.tif']"
            ]
          },
          "metadata": {},
          "execution_count": 27
        }
      ]
    },
    {
      "cell_type": "markdown",
      "source": [
        "**Recodificação para grandes classes**"
      ],
      "metadata": {
        "id": "8AXdrCal9DjX"
      }
    },
    {
      "cell_type": "code",
      "source": [
        "if not os.path.exists('/content/drive/MyDrive/CAR_RL_Labrea/OUTPUT/MAPBIOMAS_RECODE'):\n",
        "  os.makedirs('/content/drive/MyDrive/CAR_RL_Labrea/OUTPUT/MAPBIOMAS_RECODE')\n",
        "\n",
        "Path('./').mkdir(parents=True, exist_ok=True)"
      ],
      "metadata": {
        "id": "TQ08yIqv8-Px"
      },
      "execution_count": null,
      "outputs": []
    },
    {
      "cell_type": "code",
      "source": [
        "values = []\n",
        "\n",
        "for m in mb_list:\n",
        "    mb_file = rio.open(m)\n",
        "    a = mb_file.read(1)\n",
        "    vals = np.unique (a)\n",
        "    values.append(vals)\n",
        "    print (vals)\n"
      ],
      "metadata": {
        "id": "g4ncWugepcTs",
        "colab": {
          "base_uri": "https://localhost:8080/"
        },
        "outputId": "9aa12a04-534d-49a4-937f-e3c27c0171c6"
      },
      "execution_count": null,
      "outputs": [
        {
          "output_type": "stream",
          "name": "stdout",
          "text": [
            "[ 0  3  4 11 12 15 24 30 33 41]\n",
            "[ 0  3  4 11 12 15 24 30 33 41]\n",
            "[ 0  3  4 11 12 15 24 30 33 41]\n",
            "[ 0  3  4 11 12 15 24 30 33 39 41]\n"
          ]
        }
      ]
    },
    {
      "cell_type": "code",
      "source": [
        "values = []\n",
        "\n",
        "for m in mb_list:\n",
        "    mb_file = rio.open(m)\n",
        "    a = mb_file.read(1)\n",
        "    vals = np.unique (a)\n",
        "    values.append(vals)\n",
        "    print (vals)"
      ],
      "metadata": {
        "id": "VD6dStLBqn4D"
      },
      "execution_count": null,
      "outputs": []
    },
    {
      "cell_type": "code",
      "source": [
        "values_f = [item for sublist in values for item in sublist]\n",
        "nd = np.unique(values_f)\n",
        "nd"
      ],
      "metadata": {
        "colab": {
          "base_uri": "https://localhost:8080/"
        },
        "id": "Rvb1DOECq7_j",
        "outputId": "02cf4809-43b1-42a0-f741-9caf220790f9"
      },
      "execution_count": null,
      "outputs": [
        {
          "output_type": "execute_result",
          "data": {
            "text/plain": [
              "array([ 0,  3,  4, 11, 12, 15, 24, 30, 33, 39, 41], dtype=uint8)"
            ]
          },
          "metadata": {},
          "execution_count": 37
        }
      ]
    },
    {
      "cell_type": "code",
      "source": [
        "for m in mb_list:\n",
        "    mb_file = rio.open(m)\n",
        "    a = mb_file.read(1)\n",
        "    a_meta = mb_file.profile\n",
        "    a[(a==3)|(a==4)] = 1\n",
        "    a[(a==11)|(a==12)] = 2\n",
        "    a[(a==15)|(a==39)|(a==41)] = 3\n",
        "    a[(a==24)|(a==30)] = 4\n",
        "    a[(a==33)] = 5\n",
        "    name = m.replace('/content/drive/MyDrive/CAR_RL_Labrea/OUTPUT/MAPBIOMAS/mapbiomas_','').replace('_102033.tif','')\n",
        "\n",
        "    with rio.open(f'/content/drive/MyDrive/CAR_RL_Labrea/OUTPUT/MAPBIOMAS_RECODE/{name}_recode.tif', 'w', **a_meta) as dst:\n",
        "        dst.write(a, 1)\n",
        "    print (name)\n"
      ],
      "metadata": {
        "id": "M9Zj73uS8CC6",
        "colab": {
          "base_uri": "https://localhost:8080/"
        },
        "outputId": "688b3800-314d-4ea7-a302-3ad2ce5e1334"
      },
      "execution_count": null,
      "outputs": [
        {
          "output_type": "stream",
          "name": "stdout",
          "text": [
            "2020\n",
            "2008\n",
            "2012\n",
            "2016\n"
          ]
        }
      ]
    }
  ]
}