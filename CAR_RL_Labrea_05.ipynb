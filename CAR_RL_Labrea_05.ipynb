{
  "cells": [
    {
      "cell_type": "markdown",
      "metadata": {
        "id": "view-in-github",
        "colab_type": "text"
      },
      "source": [
        "<a href=\"https://colab.research.google.com/github/silvia-jesus/CAR_Labrea/blob/main/CAR_RL_Labrea_05.ipynb\" target=\"_parent\"><img src=\"https://colab.research.google.com/assets/colab-badge.svg\" alt=\"Open In Colab\"/></a>"
      ]
    },
    {
      "cell_type": "markdown",
      "source": [
        "### **CAR_RL_Labrea_05.ipynb**"
      ],
      "metadata": {
        "id": "2WFF-fryuA19"
      }
    },
    {
      "cell_type": "code",
      "execution_count": null,
      "metadata": {
        "colab": {
          "base_uri": "https://localhost:8080/"
        },
        "id": "KAmUehiK1J5I",
        "outputId": "286f8c83-bf3d-4556-f69c-4b891aefa747"
      },
      "outputs": [
        {
          "output_type": "stream",
          "name": "stdout",
          "text": [
            "Mounted at /content/drive\n"
          ]
        }
      ],
      "source": [
        "from google.colab import drive\n",
        "drive.mount('/content/drive', force_remount=True)"
      ]
    },
    {
      "cell_type": "code",
      "execution_count": null,
      "metadata": {
        "id": "EFjrSirx6m54"
      },
      "outputs": [],
      "source": [
        "import os\n",
        "from pathlib import Path"
      ]
    },
    {
      "cell_type": "code",
      "execution_count": null,
      "metadata": {
        "id": "r7PKd62T24hf"
      },
      "outputs": [],
      "source": [
        "if not os.path.exists('/content/drive/MyDrive/CAR_RL_Labrea/OUTPUT/IM_LULC'):\n",
        "  os.makedirs('/content/drive/MyDrive/CAR_RL_Labrea/OUTPUT/IM_LULC')\n",
        "\n",
        "Path('./').mkdir(parents=True, exist_ok=True)"
      ]
    },
    {
      "cell_type": "code",
      "execution_count": null,
      "metadata": {
        "id": "D_JhjRY55J_y"
      },
      "outputs": [],
      "source": [
        "from osgeo import gdal"
      ]
    },
    {
      "cell_type": "code",
      "execution_count": null,
      "metadata": {
        "colab": {
          "base_uri": "https://localhost:8080/"
        },
        "id": "gSFq-NI05Yli",
        "outputId": "a3cf2e8e-125e-49ff-f4ab-ad05e3db3bdb"
      },
      "outputs": [
        {
          "output_type": "stream",
          "name": "stdout",
          "text": [
            "Looking in indexes: https://pypi.org/simple, https://us-python.pkg.dev/colab-wheels/public/simple/\n",
            "Requirement already satisfied: geopandas in /usr/local/lib/python3.9/dist-packages (0.12.2)\n",
            "Requirement already satisfied: pyproj>=2.6.1.post1 in /usr/local/lib/python3.9/dist-packages (from geopandas) (3.4.1)\n",
            "Requirement already satisfied: fiona>=1.8 in /usr/local/lib/python3.9/dist-packages (from geopandas) (1.8.22)\n",
            "Requirement already satisfied: packaging in /usr/local/lib/python3.9/dist-packages (from geopandas) (23.0)\n",
            "Requirement already satisfied: shapely>=1.7 in /usr/local/lib/python3.9/dist-packages (from geopandas) (2.0.1)\n",
            "Requirement already satisfied: pandas>=1.0.0 in /usr/local/lib/python3.9/dist-packages (from geopandas) (1.4.4)\n",
            "Requirement already satisfied: setuptools in /usr/local/lib/python3.9/dist-packages (from fiona>=1.8->geopandas) (67.6.0)\n",
            "Requirement already satisfied: attrs>=17 in /usr/local/lib/python3.9/dist-packages (from fiona>=1.8->geopandas) (22.2.0)\n",
            "Requirement already satisfied: certifi in /usr/local/lib/python3.9/dist-packages (from fiona>=1.8->geopandas) (2022.12.7)\n",
            "Requirement already satisfied: six>=1.7 in /usr/local/lib/python3.9/dist-packages (from fiona>=1.8->geopandas) (1.16.0)\n",
            "Requirement already satisfied: click-plugins>=1.0 in /usr/local/lib/python3.9/dist-packages (from fiona>=1.8->geopandas) (1.1.1)\n",
            "Requirement already satisfied: munch in /usr/local/lib/python3.9/dist-packages (from fiona>=1.8->geopandas) (2.5.0)\n",
            "Requirement already satisfied: cligj>=0.5 in /usr/local/lib/python3.9/dist-packages (from fiona>=1.8->geopandas) (0.7.2)\n",
            "Requirement already satisfied: click>=4.0 in /usr/local/lib/python3.9/dist-packages (from fiona>=1.8->geopandas) (8.1.3)\n",
            "Requirement already satisfied: python-dateutil>=2.8.1 in /usr/local/lib/python3.9/dist-packages (from pandas>=1.0.0->geopandas) (2.8.2)\n",
            "Requirement already satisfied: pytz>=2020.1 in /usr/local/lib/python3.9/dist-packages (from pandas>=1.0.0->geopandas) (2022.7.1)\n",
            "Requirement already satisfied: numpy>=1.18.5 in /usr/local/lib/python3.9/dist-packages (from pandas>=1.0.0->geopandas) (1.22.4)\n"
          ]
        }
      ],
      "source": [
        "! pip install geopandas\n",
        "import geopandas as gpd"
      ]
    },
    {
      "cell_type": "code",
      "execution_count": null,
      "metadata": {
        "colab": {
          "base_uri": "https://localhost:8080/"
        },
        "id": "I2CCHdCK5ajR",
        "outputId": "2e0d9363-20d1-4d15-d8e3-b2f193678d46"
      },
      "outputs": [
        {
          "output_type": "stream",
          "name": "stdout",
          "text": [
            "Reading package lists... Done\n",
            "Building dependency tree       \n",
            "Reading state information... Done\n",
            "libspatialindex-dev is already the newest version (1.9.3-1build1).\n",
            "0 upgraded, 0 newly installed, 0 to remove and 23 not upgraded.\n",
            "Looking in indexes: https://pypi.org/simple, https://us-python.pkg.dev/colab-wheels/public/simple/\n",
            "Requirement already satisfied: rtree in /usr/local/lib/python3.9/dist-packages (1.0.1)\n",
            "Looking in indexes: https://pypi.org/simple, https://us-python.pkg.dev/colab-wheels/public/simple/\n",
            "Requirement already satisfied: pygeos in /usr/local/lib/python3.9/dist-packages (0.14)\n",
            "Requirement already satisfied: numpy>=1.13 in /usr/local/lib/python3.9/dist-packages (from pygeos) (1.22.4)\n"
          ]
        },
        {
          "output_type": "stream",
          "name": "stderr",
          "text": [
            "/usr/local/lib/python3.9/dist-packages/geopandas/_compat.py:123: UserWarning: The Shapely GEOS version (3.11.1-CAPI-1.17.1) is incompatible with the GEOS version PyGEOS was compiled with (3.10.4-CAPI-1.16.2). Conversions between both will be slow.\n",
            "  warnings.warn(\n",
            "/usr/local/lib/python3.9/dist-packages/IPython/core/interactiveshell.py:3249: UserWarning: Shapely 2.0 is installed, but because PyGEOS is also installed, GeoPandas will still use PyGEOS by default for now. To force to use and test Shapely 2.0, you have to set the environment variable USE_PYGEOS=0. You can do this before starting the Python process, or in your code before importing geopandas:\n",
            "\n",
            "import os\n",
            "os.environ['USE_PYGEOS'] = '0'\n",
            "import geopandas\n",
            "\n",
            "In a future release, GeoPandas will switch to using Shapely by default. If you are using PyGEOS directly (calling PyGEOS functions on geometries from GeoPandas), this will then stop working and you are encouraged to migrate from PyGEOS to Shapely 2.0 (https://shapely.readthedocs.io/en/latest/migration_pygeos.html).\n",
            "  if (await self.run_code(code, result,  async_=asy)):\n"
          ]
        }
      ],
      "source": [
        "!sudo apt install libspatialindex-dev\n",
        "!pip install rtree\n",
        "!pip install pygeos\n",
        "\n",
        "import rtree\n",
        "import pygeos\n",
        "gpd.options.use_pygeos = True\n",
        "USE_PYGEOS=1"
      ]
    },
    {
      "cell_type": "code",
      "execution_count": null,
      "metadata": {
        "colab": {
          "base_uri": "https://localhost:8080/"
        },
        "id": "XEFa-UYE5dgA",
        "outputId": "f6290d58-7054-4bb2-9bc2-5a63cd3d5269"
      },
      "outputs": [
        {
          "output_type": "stream",
          "name": "stdout",
          "text": [
            "Looking in indexes: https://pypi.org/simple, https://us-python.pkg.dev/colab-wheels/public/simple/\n",
            "Requirement already satisfied: rasterio in /usr/local/lib/python3.9/dist-packages (1.3.6)\n",
            "Requirement already satisfied: click>=4.0 in /usr/local/lib/python3.9/dist-packages (from rasterio) (8.1.3)\n",
            "Requirement already satisfied: cligj>=0.5 in /usr/local/lib/python3.9/dist-packages (from rasterio) (0.7.2)\n",
            "Requirement already satisfied: setuptools in /usr/local/lib/python3.9/dist-packages (from rasterio) (67.6.0)\n",
            "Requirement already satisfied: certifi in /usr/local/lib/python3.9/dist-packages (from rasterio) (2022.12.7)\n",
            "Requirement already satisfied: numpy>=1.18 in /usr/local/lib/python3.9/dist-packages (from rasterio) (1.22.4)\n",
            "Requirement already satisfied: click-plugins in /usr/local/lib/python3.9/dist-packages (from rasterio) (1.1.1)\n",
            "Requirement already satisfied: affine in /usr/local/lib/python3.9/dist-packages (from rasterio) (2.4.0)\n",
            "Requirement already satisfied: attrs in /usr/local/lib/python3.9/dist-packages (from rasterio) (22.2.0)\n",
            "Requirement already satisfied: snuggs>=1.4.1 in /usr/local/lib/python3.9/dist-packages (from rasterio) (1.4.7)\n",
            "Requirement already satisfied: pyparsing>=2.1.6 in /usr/local/lib/python3.9/dist-packages (from snuggs>=1.4.1->rasterio) (3.0.9)\n"
          ]
        }
      ],
      "source": [
        "!pip install rasterio\n",
        "import rasterio as rio"
      ]
    },
    {
      "cell_type": "code",
      "execution_count": null,
      "metadata": {
        "colab": {
          "base_uri": "https://localhost:8080/"
        },
        "id": "JK7DETme5jyR",
        "outputId": "0b57fc5f-628d-4259-c94c-6fee7d5f0945"
      },
      "outputs": [
        {
          "output_type": "stream",
          "name": "stdout",
          "text": [
            "Looking in indexes: https://pypi.org/simple, https://us-python.pkg.dev/colab-wheels/public/simple/\n",
            "Requirement already satisfied: rasterstats in /usr/local/lib/python3.9/dist-packages (0.18.0)\n",
            "Requirement already satisfied: cligj>=0.4 in /usr/local/lib/python3.9/dist-packages (from rasterstats) (0.7.2)\n",
            "Requirement already satisfied: shapely in /usr/local/lib/python3.9/dist-packages (from rasterstats) (2.0.1)\n",
            "Requirement already satisfied: affine<3.0 in /usr/local/lib/python3.9/dist-packages (from rasterstats) (2.4.0)\n",
            "Requirement already satisfied: rasterio>=1.0 in /usr/local/lib/python3.9/dist-packages (from rasterstats) (1.3.6)\n",
            "Requirement already satisfied: simplejson in /usr/local/lib/python3.9/dist-packages (from rasterstats) (3.18.4)\n",
            "Requirement already satisfied: fiona<1.9 in /usr/local/lib/python3.9/dist-packages (from rasterstats) (1.8.22)\n",
            "Requirement already satisfied: numpy>=1.9 in /usr/local/lib/python3.9/dist-packages (from rasterstats) (1.22.4)\n",
            "Requirement already satisfied: click>7.1 in /usr/local/lib/python3.9/dist-packages (from rasterstats) (8.1.3)\n",
            "Requirement already satisfied: setuptools in /usr/local/lib/python3.9/dist-packages (from fiona<1.9->rasterstats) (67.6.0)\n",
            "Requirement already satisfied: certifi in /usr/local/lib/python3.9/dist-packages (from fiona<1.9->rasterstats) (2022.12.7)\n",
            "Requirement already satisfied: six>=1.7 in /usr/local/lib/python3.9/dist-packages (from fiona<1.9->rasterstats) (1.16.0)\n",
            "Requirement already satisfied: attrs>=17 in /usr/local/lib/python3.9/dist-packages (from fiona<1.9->rasterstats) (22.2.0)\n",
            "Requirement already satisfied: munch in /usr/local/lib/python3.9/dist-packages (from fiona<1.9->rasterstats) (2.5.0)\n",
            "Requirement already satisfied: click-plugins>=1.0 in /usr/local/lib/python3.9/dist-packages (from fiona<1.9->rasterstats) (1.1.1)\n",
            "Requirement already satisfied: snuggs>=1.4.1 in /usr/local/lib/python3.9/dist-packages (from rasterio>=1.0->rasterstats) (1.4.7)\n",
            "Requirement already satisfied: pyparsing>=2.1.6 in /usr/local/lib/python3.9/dist-packages (from snuggs>=1.4.1->rasterio>=1.0->rasterstats) (3.0.9)\n"
          ]
        }
      ],
      "source": [
        "!pip install rasterstats\n",
        "from rasterstats import zonal_stats"
      ]
    },
    {
      "cell_type": "code",
      "execution_count": null,
      "metadata": {
        "id": "B8EcADoD5mtQ"
      },
      "outputs": [],
      "source": [
        "from rasterio import mask"
      ]
    },
    {
      "cell_type": "code",
      "execution_count": null,
      "metadata": {
        "id": "3mkm72FI5o_g"
      },
      "outputs": [],
      "source": [
        "!pip install fiona\n",
        "import fiona"
      ]
    },
    {
      "cell_type": "code",
      "execution_count": null,
      "metadata": {
        "id": "kwDtQZHw5Lvg"
      },
      "outputs": [],
      "source": [
        "import matplotlib.pyplot as plt\n",
        "import matplotlib as mpl\n",
        "import seaborn as sns\n",
        "import pandas as pd\n",
        "import numpy as np"
      ]
    },
    {
      "cell_type": "code",
      "execution_count": null,
      "metadata": {
        "id": "BirNPEHl5Tfh"
      },
      "outputs": [],
      "source": [
        "import glob\n",
        "import shutil\n",
        "import os\n",
        "import time"
      ]
    },
    {
      "cell_type": "code",
      "execution_count": null,
      "metadata": {
        "id": "Wl5uirTP7UX4"
      },
      "outputs": [],
      "source": [
        "mapbiomas=glob.glob('/content/drive/MyDrive/CAR_RL_Labrea/OUTPUT/MAPBIOMAS/*tif')\n",
        "mapbiomas"
      ]
    },
    {
      "cell_type": "code",
      "execution_count": null,
      "metadata": {
        "id": "IhzxBkiB5u-o"
      },
      "outputs": [],
      "source": [
        "recode6=glob.glob('/content/drive/MyDrive/CAR_RL_Labrea/OUTPUT/MAPBIOMAS_RECODE/*')\n",
        "recode6"
      ]
    },
    {
      "cell_type": "code",
      "execution_count": null,
      "metadata": {
        "id": "3vOJfAg_5-4Y"
      },
      "outputs": [],
      "source": [
        "files_im_I = glob.glob('/content/drive/MyDrive/CAR_RL_Labrea/OUTPUT/IMOVEL_SPLIT/I/*.shp')\n",
        "len(files_im_I)"
      ]
    },
    {
      "cell_type": "code",
      "execution_count": null,
      "metadata": {
        "id": "eNab3Myagn1F"
      },
      "outputs": [],
      "source": [
        "files_im_II = glob.glob('/content/drive/MyDrive/CAR_RL_Labrea/OUTPUT/IMOVEL_SPLIT/II/*.shp')\n",
        "len(files_im_II)"
      ]
    },
    {
      "cell_type": "code",
      "execution_count": null,
      "metadata": {
        "id": "OnwoBHXigrCL"
      },
      "outputs": [],
      "source": [
        "files_im_III = glob.glob('/content/drive/MyDrive/CAR_RL_Labrea/OUTPUT/IMOVEL_SPLIT/III/*.shp')\n",
        "len(files_im_III)"
      ]
    },
    {
      "cell_type": "code",
      "execution_count": null,
      "metadata": {
        "id": "sec62g7NgvFy"
      },
      "outputs": [],
      "source": [
        "files_im_IV = glob.glob('/content/drive/MyDrive/CAR_RL_Labrea/OUTPUT/IMOVEL_SPLIT/IV/*.shp')\n",
        "len(files_im_IV)"
      ]
    },
    {
      "cell_type": "code",
      "execution_count": null,
      "metadata": {
        "id": "Q1tvo0rF6hIQ"
      },
      "outputs": [],
      "source": [
        "if not os.path.exists('/content/drive/MyDrive/CAR_RL_Labrea/OUTPUT/IM_LULC/Arrays_LULC'):\n",
        "  os.makedirs('/content/drive/MyDrive/CAR_RL_Labrea/OUTPUT/IM_LULC/Arrays_LULC')\n",
        "\n",
        "\n",
        "Path('./').mkdir(parents=True, exist_ok=True)"
      ]
    },
    {
      "cell_type": "code",
      "execution_count": null,
      "metadata": {
        "id": "XK547ewQ7Egw"
      },
      "outputs": [],
      "source": [
        "for im in files_im_I:\n",
        "    for lulc in mapbiomas:\n",
        "        with fiona.open(im, 'r') as shapefile:\n",
        "            shapes = [feature['geometry'] for feature in shapefile]\n",
        "        with rio.open(lulc) as src:\n",
        "            out_image, transformed = rio.mask.mask(src, shapes, crop=True, filled=True)\n",
        "\n",
        "            gdf = gpd.read_file(im)\n",
        "\n",
        "            id_im=gdf.iloc[0]['COD_IMOVEL']\n",
        "            year = lulc.replace('/content/drive/MyDrive/CAR_RL_Labrea/OUTPUT/MAPBIOMAS/mapbiomas_','').replace('_102033.tif','')\n",
        "\n",
        "            data=out_image.flatten()\n",
        "            data=data[data >= 0] #to remove nan\n",
        "            unique, counts = np.unique(data, return_counts=True)\n",
        "            arr = np.array([unique, counts])\n",
        "            df = pd.DataFrame(data=arr)\n",
        "            new_header = df.iloc[0] #grab the first row for the header\n",
        "            df = df[1:] #take the data less the header row\n",
        "            df.columns = new_header #set the header row as the df header\n",
        "\n",
        "            df['COD_IMOVEL']=id_im\n",
        "            df['ano']=year\n",
        "            df.to_csv(f'/content/drive/MyDrive/CAR_RL_Labrea/OUTPUT/IM_LULC/Arrays_LULC/lulc_{id_im}_{year}_I.csv')"
      ]
    },
    {
      "cell_type": "code",
      "execution_count": null,
      "metadata": {
        "id": "SxgI2WOchgHp"
      },
      "outputs": [],
      "source": [
        "for im in files_im_II:\n",
        "    for lulc in mapbiomas:\n",
        "        with fiona.open(im, 'r') as shapefile:\n",
        "            shapes = [feature['geometry'] for feature in shapefile]\n",
        "        with rio.open(lulc) as src:\n",
        "            out_image, transformed = rio.mask.mask(src, shapes, crop=True, filled=True)\n",
        "\n",
        "            gdf = gpd.read_file(im)\n",
        "\n",
        "            id_im=gdf.iloc[0]['COD_IMOVEL']\n",
        "            year = lulc.replace('/content/drive/MyDrive/CAR_RL_Labrea/OUTPUT/MAPBIOMAS/mapbiomas_','').replace('_102033.tif','')\n",
        "\n",
        "            data=out_image.flatten()\n",
        "            data=data[data >= 0] #to remove nan\n",
        "            unique, counts = np.unique(data, return_counts=True)\n",
        "            arr = np.array([unique, counts])\n",
        "            df = pd.DataFrame(data=arr)\n",
        "            new_header = df.iloc[0] #grab the first row for the header\n",
        "            df = df[1:] #take the data less the header row\n",
        "            df.columns = new_header #set the header row as the df header\n",
        "\n",
        "            df['COD_IMOVEL']=id_im\n",
        "            df['ano']=year\n",
        "            df.to_csv(f'/content/drive/MyDrive/CAR_RL_Labrea/OUTPUT/IM_LULC/Arrays_LULC/lulc_{id_im}_{year}_II.csv')"
      ]
    },
    {
      "cell_type": "code",
      "execution_count": null,
      "metadata": {
        "id": "I33dUVQ_hjsw"
      },
      "outputs": [],
      "source": [
        "for im in files_im_III:\n",
        "    for lulc in mapbiomas:\n",
        "        with fiona.open(im, 'r') as shapefile:\n",
        "            shapes = [feature['geometry'] for feature in shapefile]\n",
        "        with rio.open(lulc) as src:\n",
        "            out_image, transformed = rio.mask.mask(src, shapes, crop=True, filled=True)\n",
        "\n",
        "            gdf = gpd.read_file(im)\n",
        "\n",
        "            id_im=gdf.iloc[0]['COD_IMOVEL']\n",
        "            year = lulc.replace('/content/drive/MyDrive/CAR_RL_Labrea/OUTPUT/MAPBIOMAS/mapbiomas_','').replace('_102033.tif','')\n",
        "\n",
        "            data=out_image.flatten()\n",
        "            data=data[data >= 0] #to remove nan\n",
        "            unique, counts = np.unique(data, return_counts=True)\n",
        "            arr = np.array([unique, counts])\n",
        "            df = pd.DataFrame(data=arr)\n",
        "            new_header = df.iloc[0] #grab the first row for the header\n",
        "            df = df[1:] #take the data less the header row\n",
        "            df.columns = new_header #set the header row as the df header\n",
        "\n",
        "            df['COD_IMOVEL']=id_im\n",
        "            df['ano']=year\n",
        "            df.to_csv(f'/content/drive/MyDrive/CAR_RL_Labrea/OUTPUT/IM_LULC/Arrays_LULC/lulc_{id_im}_{year}_III.csv')"
      ]
    },
    {
      "cell_type": "code",
      "execution_count": null,
      "metadata": {
        "id": "YyROY2aGhl7T"
      },
      "outputs": [],
      "source": [
        "for im in files_im_IV:\n",
        "    for lulc in mapbiomas:\n",
        "        with fiona.open(im, 'r') as shapefile:\n",
        "            shapes = [feature['geometry'] for feature in shapefile]\n",
        "        with rio.open(lulc) as src:\n",
        "            out_image, transformed = rio.mask.mask(src, shapes, crop=True, filled=True)\n",
        "\n",
        "            gdf = gpd.read_file(im)\n",
        "\n",
        "            id_im=gdf.iloc[0]['COD_IMOVEL']\n",
        "            year = lulc.replace('/content/drive/MyDrive/CAR_RL_Labrea/OUTPUT/MAPBIOMAS/mapbiomas_','').replace('_102033.tif','')\n",
        "\n",
        "            data=out_image.flatten()\n",
        "            data=data[data >= 0] #to remove nan\n",
        "            unique, counts = np.unique(data, return_counts=True)\n",
        "            arr = np.array([unique, counts])\n",
        "            df = pd.DataFrame(data=arr)\n",
        "            new_header = df.iloc[0] #grab the first row for the header\n",
        "            df = df[1:] #take the data less the header row\n",
        "            df.columns = new_header #set the header row as the df header\n",
        "\n",
        "            df['COD_IMOVEL']=id_im\n",
        "            df['ano']=year\n",
        "            df.to_csv(f'/content/drive/MyDrive/CAR_RL_Labrea/OUTPUT/IM_LULC/Arrays_LULC/lulc_{id_im}_{year}_IV.csv')"
      ]
    },
    {
      "cell_type": "code",
      "execution_count": null,
      "metadata": {
        "id": "EEqaBaZe9W_o"
      },
      "outputs": [],
      "source": [
        "lulc_csv = glob.glob('/content/drive/MyDrive/CAR_RL_Labrea/OUTPUT/IM_LULC/Arrays_LULC/lulc_*.csv')"
      ]
    },
    {
      "cell_type": "code",
      "execution_count": null,
      "metadata": {
        "id": "t3lT-Tqw9kXe"
      },
      "outputs": [],
      "source": [
        "lulc_df = pd.concat(map(pd.read_csv, lulc_csv), ignore_index=True)\n",
        "lulc_df = lulc_df.iloc[:, 2:] #remove old index and 0 values\n",
        "\n",
        "cols = lulc_df.columns\n",
        "cols"
      ]
    },
    {
      "cell_type": "code",
      "execution_count": null,
      "metadata": {
        "id": "anWBR3jqKdL4"
      },
      "outputs": [],
      "source": [
        "lulc_df = lulc_df.fillna(0)\n",
        "lulc_df.head(6)"
      ]
    },
    {
      "cell_type": "code",
      "execution_count": null,
      "metadata": {
        "id": "qF8_bXErKvWm"
      },
      "outputs": [],
      "source": [
        "value = pd.read_csv('/content/drive/MyDrive/CAR_RL_Labrea/DADOS/code_mapbiomas_legend.csv',sep=';')\n",
        "value['value'] = value['value'].astype(str)\n",
        "value.head()"
      ]
    },
    {
      "cell_type": "code",
      "execution_count": null,
      "metadata": {
        "id": "9be3KPwwq5si"
      },
      "outputs": [],
      "source": [
        "val_dict = dict(zip(value.value, value.nome))\n",
        "val_dict"
      ]
    },
    {
      "cell_type": "code",
      "execution_count": null,
      "metadata": {
        "id": "pjPbk_WkK2es"
      },
      "outputs": [],
      "source": [
        "lulc_df = pd.concat(map(pd.read_csv, lulc_csv), ignore_index=True)\n",
        "lulc_df = lulc_df.iloc[:, 2:] #remove old index and 0 values\n",
        "cols = lulc_df.columns\n",
        "cols"
      ]
    },
    {
      "cell_type": "code",
      "execution_count": null,
      "metadata": {
        "id": "LtFIpxRZLBNo"
      },
      "outputs": [],
      "source": [
        "lulc_df.rename(columns = val_dict, inplace = True)\n",
        "lulc_df.head()"
      ]
    },
    {
      "cell_type": "code",
      "execution_count": null,
      "metadata": {
        "id": "ZmU9gfxE0teK"
      },
      "outputs": [],
      "source": [
        "if not os.path.exists('/content/drive/MyDrive/CAR_RL_Labrea/OUTPUT/Tabelas_LULC'):\n",
        "  os.makedirs('/content/drive/MyDrive/CAR_RL_Labrea/OUTPUT/Tabelas_LULC')\n",
        "\n",
        "\n",
        "Path('./').mkdir(parents=True, exist_ok=True)"
      ]
    },
    {
      "cell_type": "code",
      "execution_count": null,
      "metadata": {
        "id": "ls7FR3BI1GuM"
      },
      "outputs": [],
      "source": [
        "lulc_df.to_csv('/content/drive/MyDrive/CAR_RL_Labrea/OUTPUT/Tabelas_LULC/IM_LULC_Labrea.csv')"
      ]
    }
  ],
  "metadata": {
    "colab": {
      "provenance": [],
      "authorship_tag": "ABX9TyMF/K0Xmye4zBK319bQXOwu",
      "include_colab_link": true
    },
    "kernelspec": {
      "display_name": "Python 3",
      "name": "python3"
    },
    "language_info": {
      "name": "python"
    }
  },
  "nbformat": 4,
  "nbformat_minor": 0
}