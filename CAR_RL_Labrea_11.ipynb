{
  "nbformat": 4,
  "nbformat_minor": 0,
  "metadata": {
    "colab": {
      "provenance": [],
      "authorship_tag": "ABX9TyNyhqVOrmwWG+HfueRT7Ejw",
      "include_colab_link": true
    },
    "kernelspec": {
      "name": "python3",
      "display_name": "Python 3"
    },
    "language_info": {
      "name": "python"
    }
  },
  "cells": [
    {
      "cell_type": "markdown",
      "metadata": {
        "id": "view-in-github",
        "colab_type": "text"
      },
      "source": [
        "<a href=\"https://colab.research.google.com/github/silvia-jesus/CAR_Labrea/blob/main/CAR_RL_Labrea_11.ipynb\" target=\"_parent\"><img src=\"https://colab.research.google.com/assets/colab-badge.svg\" alt=\"Open In Colab\"/></a>"
      ]
    },
    {
      "cell_type": "markdown",
      "source": [
        "### **CAR_RL_Labrea_11.ipynb**"
      ],
      "metadata": {
        "id": "dwNU9pdAvEAM"
      }
    },
    {
      "cell_type": "code",
      "execution_count": null,
      "metadata": {
        "colab": {
          "base_uri": "https://localhost:8080/"
        },
        "id": "ucZ1euoa3Wgz",
        "outputId": "918c5689-e70a-4d76-d1ef-f8e9eda86f69"
      },
      "outputs": [
        {
          "output_type": "stream",
          "name": "stdout",
          "text": [
            "Mounted at /content/drive\n"
          ]
        }
      ],
      "source": [
        "from google.colab import drive\n",
        "drive.mount('/content/drive', force_remount=True)"
      ]
    },
    {
      "cell_type": "code",
      "source": [
        "import matplotlib.pyplot as plt\n",
        "import matplotlib as mpl\n",
        "import seaborn as sns\n",
        "import pandas as pd\n",
        "import numpy as np"
      ],
      "metadata": {
        "id": "lUZbr3q03fAO"
      },
      "execution_count": null,
      "outputs": []
    },
    {
      "cell_type": "code",
      "source": [
        "import glob\n",
        "import shutil\n",
        "import os\n",
        "from pathlib import Path"
      ],
      "metadata": {
        "id": "z3g55zuJ3gdM"
      },
      "execution_count": null,
      "outputs": []
    },
    {
      "cell_type": "code",
      "source": [
        "!pip install geopandas\n",
        "import geopandas as gpd"
      ],
      "metadata": {
        "colab": {
          "base_uri": "https://localhost:8080/"
        },
        "id": "jWmuzk1j3_TR",
        "outputId": "c5a9dbae-cf7e-448a-f1ce-3e3eb117b9fd"
      },
      "execution_count": null,
      "outputs": [
        {
          "output_type": "stream",
          "name": "stdout",
          "text": [
            "Looking in indexes: https://pypi.org/simple, https://us-python.pkg.dev/colab-wheels/public/simple/\n",
            "Collecting geopandas\n",
            "  Downloading geopandas-0.12.2-py3-none-any.whl (1.1 MB)\n",
            "\u001b[2K     \u001b[90m━━━━━━━━━━━━━━━━━━━━━━━━━━━━━━━━━━━━━━━━\u001b[0m \u001b[32m1.1/1.1 MB\u001b[0m \u001b[31m29.0 MB/s\u001b[0m eta \u001b[36m0:00:00\u001b[0m\n",
            "\u001b[?25hRequirement already satisfied: pandas>=1.0.0 in /usr/local/lib/python3.9/dist-packages (from geopandas) (1.4.4)\n",
            "Collecting pyproj>=2.6.1.post1\n",
            "  Downloading pyproj-3.4.1-cp39-cp39-manylinux_2_17_x86_64.manylinux2014_x86_64.whl (7.7 MB)\n",
            "\u001b[2K     \u001b[90m━━━━━━━━━━━━━━━━━━━━━━━━━━━━━━━━━━━━━━━━\u001b[0m \u001b[32m7.7/7.7 MB\u001b[0m \u001b[31m90.5 MB/s\u001b[0m eta \u001b[36m0:00:00\u001b[0m\n",
            "\u001b[?25hRequirement already satisfied: packaging in /usr/local/lib/python3.9/dist-packages (from geopandas) (23.0)\n",
            "Collecting fiona>=1.8\n",
            "  Downloading Fiona-1.9.2-cp39-cp39-manylinux_2_17_x86_64.manylinux2014_x86_64.whl (16.1 MB)\n",
            "\u001b[2K     \u001b[90m━━━━━━━━━━━━━━━━━━━━━━━━━━━━━━━━━━━━━━━━\u001b[0m \u001b[32m16.1/16.1 MB\u001b[0m \u001b[31m75.0 MB/s\u001b[0m eta \u001b[36m0:00:00\u001b[0m\n",
            "\u001b[?25hRequirement already satisfied: shapely>=1.7 in /usr/local/lib/python3.9/dist-packages (from geopandas) (2.0.1)\n",
            "Collecting munch>=2.3.2\n",
            "  Downloading munch-2.5.0-py2.py3-none-any.whl (10 kB)\n",
            "Requirement already satisfied: attrs>=19.2.0 in /usr/local/lib/python3.9/dist-packages (from fiona>=1.8->geopandas) (22.2.0)\n",
            "Collecting cligj>=0.5\n",
            "  Downloading cligj-0.7.2-py3-none-any.whl (7.1 kB)\n",
            "Requirement already satisfied: certifi in /usr/local/lib/python3.9/dist-packages (from fiona>=1.8->geopandas) (2022.12.7)\n",
            "Requirement already satisfied: importlib-metadata in /usr/local/lib/python3.9/dist-packages (from fiona>=1.8->geopandas) (6.1.0)\n",
            "Collecting click-plugins>=1.0\n",
            "  Downloading click_plugins-1.1.1-py2.py3-none-any.whl (7.5 kB)\n",
            "Requirement already satisfied: click~=8.0 in /usr/local/lib/python3.9/dist-packages (from fiona>=1.8->geopandas) (8.1.3)\n",
            "Requirement already satisfied: pytz>=2020.1 in /usr/local/lib/python3.9/dist-packages (from pandas>=1.0.0->geopandas) (2022.7.1)\n",
            "Requirement already satisfied: numpy>=1.18.5 in /usr/local/lib/python3.9/dist-packages (from pandas>=1.0.0->geopandas) (1.22.4)\n",
            "Requirement already satisfied: python-dateutil>=2.8.1 in /usr/local/lib/python3.9/dist-packages (from pandas>=1.0.0->geopandas) (2.8.2)\n",
            "Requirement already satisfied: six in /usr/local/lib/python3.9/dist-packages (from munch>=2.3.2->fiona>=1.8->geopandas) (1.16.0)\n",
            "Requirement already satisfied: zipp>=0.5 in /usr/local/lib/python3.9/dist-packages (from importlib-metadata->fiona>=1.8->geopandas) (3.15.0)\n",
            "Installing collected packages: pyproj, munch, cligj, click-plugins, fiona, geopandas\n",
            "Successfully installed click-plugins-1.1.1 cligj-0.7.2 fiona-1.9.2 geopandas-0.12.2 munch-2.5.0 pyproj-3.4.1\n"
          ]
        }
      ]
    },
    {
      "cell_type": "code",
      "source": [
        "if not os.path.exists('/content/drive/MyDrive/CAR_RL_Labrea/OUTPUT/ANALISES/GEO'):\n",
        "  os.makedirs('/content/drive/MyDrive/CAR_RL_Labrea/OUTPUT/ANALISES/GEO')\n",
        "\n",
        "Path('./').mkdir(parents=True, exist_ok=True)"
      ],
      "metadata": {
        "id": "ta_4prTk3iks"
      },
      "execution_count": null,
      "outputs": []
    },
    {
      "cell_type": "code",
      "source": [
        "df = pd.read_csv ('/content/drive/MyDrive/CAR_RL_Labrea/OUTPUT/ANALISES/imovel_vegnat.csv')\n",
        "print(df.shape)\n",
        "df.head()"
      ],
      "metadata": {
        "colab": {
          "base_uri": "https://localhost:8080/",
          "height": 371
        },
        "id": "Zy7ypG-T311L",
        "outputId": "ba7c7279-3643-4362-bef7-46420ad44aca"
      },
      "execution_count": null,
      "outputs": [
        {
          "output_type": "stream",
          "name": "stdout",
          "text": [
            "(14092, 12)\n"
          ]
        },
        {
          "output_type": "execute_result",
          "data": {
            "text/plain": [
              "   Unnamed: 0                                   COD_IMOVEL   ano  Floresta  \\\n",
              "0           0  AM-1302405-572A83718B344DCCB9C3E11296C09B30  2020   1441.62   \n",
              "1           1  AM-1302405-572A83718B344DCCB9C3E11296C09B30  2012   1316.43   \n",
              "2           2  AM-1302405-572A83718B344DCCB9C3E11296C09B30  2008   1308.42   \n",
              "3           3  AM-1302405-572A83718B344DCCB9C3E11296C09B30  2016   1401.84   \n",
              "4           4  AM-1302405-576D22A93BAA4AD7A576F6305E3E6C69  2012    948.78   \n",
              "\n",
              "   Formação Natural não Florestal  Agropecuária  Área não Vegetada  \\\n",
              "0                            6.75        208.71                0.0   \n",
              "1                            5.58        335.07                0.0   \n",
              "2                            4.95        343.17                0.0   \n",
              "3                            7.11        248.13                0.0   \n",
              "4                            0.00         43.92                0.0   \n",
              "\n",
              "   Corpo D'água    Total       MF Módulos Fiscais  Vegetação Nativa  \n",
              "0          0.00  1657.08  16.5708       4 ou mais           1448.37  \n",
              "1          0.00  1657.08  16.5708       4 ou mais           1322.01  \n",
              "2          0.54  1657.08  16.5708       4 ou mais           1313.37  \n",
              "3          0.00  1657.08  16.5708       4 ou mais           1408.95  \n",
              "4          0.00   992.70   9.9270       4 ou mais            948.78  "
            ],
            "text/html": [
              "\n",
              "  <div id=\"df-f09e3d3d-a8be-4492-84ae-5fbc85147551\">\n",
              "    <div class=\"colab-df-container\">\n",
              "      <div>\n",
              "<style scoped>\n",
              "    .dataframe tbody tr th:only-of-type {\n",
              "        vertical-align: middle;\n",
              "    }\n",
              "\n",
              "    .dataframe tbody tr th {\n",
              "        vertical-align: top;\n",
              "    }\n",
              "\n",
              "    .dataframe thead th {\n",
              "        text-align: right;\n",
              "    }\n",
              "</style>\n",
              "<table border=\"1\" class=\"dataframe\">\n",
              "  <thead>\n",
              "    <tr style=\"text-align: right;\">\n",
              "      <th></th>\n",
              "      <th>Unnamed: 0</th>\n",
              "      <th>COD_IMOVEL</th>\n",
              "      <th>ano</th>\n",
              "      <th>Floresta</th>\n",
              "      <th>Formação Natural não Florestal</th>\n",
              "      <th>Agropecuária</th>\n",
              "      <th>Área não Vegetada</th>\n",
              "      <th>Corpo D'água</th>\n",
              "      <th>Total</th>\n",
              "      <th>MF</th>\n",
              "      <th>Módulos Fiscais</th>\n",
              "      <th>Vegetação Nativa</th>\n",
              "    </tr>\n",
              "  </thead>\n",
              "  <tbody>\n",
              "    <tr>\n",
              "      <th>0</th>\n",
              "      <td>0</td>\n",
              "      <td>AM-1302405-572A83718B344DCCB9C3E11296C09B30</td>\n",
              "      <td>2020</td>\n",
              "      <td>1441.62</td>\n",
              "      <td>6.75</td>\n",
              "      <td>208.71</td>\n",
              "      <td>0.0</td>\n",
              "      <td>0.00</td>\n",
              "      <td>1657.08</td>\n",
              "      <td>16.5708</td>\n",
              "      <td>4 ou mais</td>\n",
              "      <td>1448.37</td>\n",
              "    </tr>\n",
              "    <tr>\n",
              "      <th>1</th>\n",
              "      <td>1</td>\n",
              "      <td>AM-1302405-572A83718B344DCCB9C3E11296C09B30</td>\n",
              "      <td>2012</td>\n",
              "      <td>1316.43</td>\n",
              "      <td>5.58</td>\n",
              "      <td>335.07</td>\n",
              "      <td>0.0</td>\n",
              "      <td>0.00</td>\n",
              "      <td>1657.08</td>\n",
              "      <td>16.5708</td>\n",
              "      <td>4 ou mais</td>\n",
              "      <td>1322.01</td>\n",
              "    </tr>\n",
              "    <tr>\n",
              "      <th>2</th>\n",
              "      <td>2</td>\n",
              "      <td>AM-1302405-572A83718B344DCCB9C3E11296C09B30</td>\n",
              "      <td>2008</td>\n",
              "      <td>1308.42</td>\n",
              "      <td>4.95</td>\n",
              "      <td>343.17</td>\n",
              "      <td>0.0</td>\n",
              "      <td>0.54</td>\n",
              "      <td>1657.08</td>\n",
              "      <td>16.5708</td>\n",
              "      <td>4 ou mais</td>\n",
              "      <td>1313.37</td>\n",
              "    </tr>\n",
              "    <tr>\n",
              "      <th>3</th>\n",
              "      <td>3</td>\n",
              "      <td>AM-1302405-572A83718B344DCCB9C3E11296C09B30</td>\n",
              "      <td>2016</td>\n",
              "      <td>1401.84</td>\n",
              "      <td>7.11</td>\n",
              "      <td>248.13</td>\n",
              "      <td>0.0</td>\n",
              "      <td>0.00</td>\n",
              "      <td>1657.08</td>\n",
              "      <td>16.5708</td>\n",
              "      <td>4 ou mais</td>\n",
              "      <td>1408.95</td>\n",
              "    </tr>\n",
              "    <tr>\n",
              "      <th>4</th>\n",
              "      <td>4</td>\n",
              "      <td>AM-1302405-576D22A93BAA4AD7A576F6305E3E6C69</td>\n",
              "      <td>2012</td>\n",
              "      <td>948.78</td>\n",
              "      <td>0.00</td>\n",
              "      <td>43.92</td>\n",
              "      <td>0.0</td>\n",
              "      <td>0.00</td>\n",
              "      <td>992.70</td>\n",
              "      <td>9.9270</td>\n",
              "      <td>4 ou mais</td>\n",
              "      <td>948.78</td>\n",
              "    </tr>\n",
              "  </tbody>\n",
              "</table>\n",
              "</div>\n",
              "      <button class=\"colab-df-convert\" onclick=\"convertToInteractive('df-f09e3d3d-a8be-4492-84ae-5fbc85147551')\"\n",
              "              title=\"Convert this dataframe to an interactive table.\"\n",
              "              style=\"display:none;\">\n",
              "        \n",
              "  <svg xmlns=\"http://www.w3.org/2000/svg\" height=\"24px\"viewBox=\"0 0 24 24\"\n",
              "       width=\"24px\">\n",
              "    <path d=\"M0 0h24v24H0V0z\" fill=\"none\"/>\n",
              "    <path d=\"M18.56 5.44l.94 2.06.94-2.06 2.06-.94-2.06-.94-.94-2.06-.94 2.06-2.06.94zm-11 1L8.5 8.5l.94-2.06 2.06-.94-2.06-.94L8.5 2.5l-.94 2.06-2.06.94zm10 10l.94 2.06.94-2.06 2.06-.94-2.06-.94-.94-2.06-.94 2.06-2.06.94z\"/><path d=\"M17.41 7.96l-1.37-1.37c-.4-.4-.92-.59-1.43-.59-.52 0-1.04.2-1.43.59L10.3 9.45l-7.72 7.72c-.78.78-.78 2.05 0 2.83L4 21.41c.39.39.9.59 1.41.59.51 0 1.02-.2 1.41-.59l7.78-7.78 2.81-2.81c.8-.78.8-2.07 0-2.86zM5.41 20L4 18.59l7.72-7.72 1.47 1.35L5.41 20z\"/>\n",
              "  </svg>\n",
              "      </button>\n",
              "      \n",
              "  <style>\n",
              "    .colab-df-container {\n",
              "      display:flex;\n",
              "      flex-wrap:wrap;\n",
              "      gap: 12px;\n",
              "    }\n",
              "\n",
              "    .colab-df-convert {\n",
              "      background-color: #E8F0FE;\n",
              "      border: none;\n",
              "      border-radius: 50%;\n",
              "      cursor: pointer;\n",
              "      display: none;\n",
              "      fill: #1967D2;\n",
              "      height: 32px;\n",
              "      padding: 0 0 0 0;\n",
              "      width: 32px;\n",
              "    }\n",
              "\n",
              "    .colab-df-convert:hover {\n",
              "      background-color: #E2EBFA;\n",
              "      box-shadow: 0px 1px 2px rgba(60, 64, 67, 0.3), 0px 1px 3px 1px rgba(60, 64, 67, 0.15);\n",
              "      fill: #174EA6;\n",
              "    }\n",
              "\n",
              "    [theme=dark] .colab-df-convert {\n",
              "      background-color: #3B4455;\n",
              "      fill: #D2E3FC;\n",
              "    }\n",
              "\n",
              "    [theme=dark] .colab-df-convert:hover {\n",
              "      background-color: #434B5C;\n",
              "      box-shadow: 0px 1px 3px 1px rgba(0, 0, 0, 0.15);\n",
              "      filter: drop-shadow(0px 1px 2px rgba(0, 0, 0, 0.3));\n",
              "      fill: #FFFFFF;\n",
              "    }\n",
              "  </style>\n",
              "\n",
              "      <script>\n",
              "        const buttonEl =\n",
              "          document.querySelector('#df-f09e3d3d-a8be-4492-84ae-5fbc85147551 button.colab-df-convert');\n",
              "        buttonEl.style.display =\n",
              "          google.colab.kernel.accessAllowed ? 'block' : 'none';\n",
              "\n",
              "        async function convertToInteractive(key) {\n",
              "          const element = document.querySelector('#df-f09e3d3d-a8be-4492-84ae-5fbc85147551');\n",
              "          const dataTable =\n",
              "            await google.colab.kernel.invokeFunction('convertToInteractive',\n",
              "                                                     [key], {});\n",
              "          if (!dataTable) return;\n",
              "\n",
              "          const docLinkHtml = 'Like what you see? Visit the ' +\n",
              "            '<a target=\"_blank\" href=https://colab.research.google.com/notebooks/data_table.ipynb>data table notebook</a>'\n",
              "            + ' to learn more about interactive tables.';\n",
              "          element.innerHTML = '';\n",
              "          dataTable['output_type'] = 'display_data';\n",
              "          await google.colab.output.renderOutput(dataTable, element);\n",
              "          const docLink = document.createElement('div');\n",
              "          docLink.innerHTML = docLinkHtml;\n",
              "          element.appendChild(docLink);\n",
              "        }\n",
              "      </script>\n",
              "    </div>\n",
              "  </div>\n",
              "  "
            ]
          },
          "metadata": {},
          "execution_count": 6
        }
      ]
    },
    {
      "cell_type": "code",
      "source": [
        "df['Perc_VegNat']=df['Vegetação Nativa']/df['Total']*100"
      ],
      "metadata": {
        "id": "ZFtWGJY2IexE"
      },
      "execution_count": null,
      "outputs": []
    },
    {
      "cell_type": "code",
      "source": [
        "ano = df['ano'].unique()\n",
        "ano"
      ],
      "metadata": {
        "colab": {
          "base_uri": "https://localhost:8080/"
        },
        "id": "4IYbeRSh5mzh",
        "outputId": "6cc5fd62-7e09-4de1-80a5-1bcfa5388ffe"
      },
      "execution_count": null,
      "outputs": [
        {
          "output_type": "execute_result",
          "data": {
            "text/plain": [
              "array([2020, 2012, 2008, 2016])"
            ]
          },
          "metadata": {},
          "execution_count": 8
        }
      ]
    },
    {
      "cell_type": "code",
      "source": [
        "imoveis = gpd.read_file('/content/drive/MyDrive/CAR_RL_Labrea/OUTPUT/IM_JOIN/Imoveis_municipios.shp', encoding='utf-8') #arquivo original sem remoção dos inválidos\n",
        "imoveis.head()"
      ],
      "metadata": {
        "colab": {
          "base_uri": "https://localhost:8080/",
          "height": 337
        },
        "id": "MZumNq074LiZ",
        "outputId": "9d672e00-defa-42cf-f1a1-2775e5b89202"
      },
      "execution_count": null,
      "outputs": [
        {
          "output_type": "execute_result",
          "data": {
            "text/plain": [
              "                                    COD_IMOVEL     NUM_AREA COD_ESTADO  \\\n",
              "0  AM-1302405-6F63EBF5EA864058B2B02CE6CE7C978F    59.316629         AM   \n",
              "1  AM-1302405-AA1907779A0F41A9A6B2223027F7A829   100.224892         AM   \n",
              "2  AM-1302405-D7B80B40290D4971BE914DC9A193EAD5  4924.316935         AM   \n",
              "3  AM-1302405-450B753B24744318B6EA3DDC40A32C5D  4175.209638         AM   \n",
              "4  AM-1302405-6AA5D37ECEC74951A4167DFA842906A3   538.786629         AM   \n",
              "\n",
              "  NOM_MUNICI  NUM_MODULO TIPO_IMOVE SITUACAO  \\\n",
              "0     Lábrea      0.5932        IRU       PE   \n",
              "1     Lábrea      1.0022        IRU       PE   \n",
              "2     Lábrea     51.3135        IRU       AT   \n",
              "3     Lábrea     41.7521        IRU       PE   \n",
              "4     Lábrea      5.3879        IRU       AT   \n",
              "\n",
              "                                          CONDICAO_I  \\\n",
              "0  Analisado com pendências, aguardando retificaç...   \n",
              "1  Analisado com pendências, aguardando retificaç...   \n",
              "2  Analisado com pendências, aguardando retificaç...   \n",
              "3  Analisado com pendências, aguardando retificaç...   \n",
              "4                                 Aguardando análise   \n",
              "\n",
              "                                            geometry  \n",
              "0  POLYGON ((-734906.403 2562229.825, -734869.871...  \n",
              "1  POLYGON ((-736595.743 2557908.955, -736330.354...  \n",
              "2  POLYGON ((-710176.765 2573995.713, -709583.330...  \n",
              "3  POLYGON ((-720061.679 2577243.663, -710778.119...  \n",
              "4  POLYGON ((-724607.248 2561645.336, -724373.290...  "
            ],
            "text/html": [
              "\n",
              "  <div id=\"df-13c2cb93-2758-4e7f-8c9b-c65e1aedde5e\">\n",
              "    <div class=\"colab-df-container\">\n",
              "      <div>\n",
              "<style scoped>\n",
              "    .dataframe tbody tr th:only-of-type {\n",
              "        vertical-align: middle;\n",
              "    }\n",
              "\n",
              "    .dataframe tbody tr th {\n",
              "        vertical-align: top;\n",
              "    }\n",
              "\n",
              "    .dataframe thead th {\n",
              "        text-align: right;\n",
              "    }\n",
              "</style>\n",
              "<table border=\"1\" class=\"dataframe\">\n",
              "  <thead>\n",
              "    <tr style=\"text-align: right;\">\n",
              "      <th></th>\n",
              "      <th>COD_IMOVEL</th>\n",
              "      <th>NUM_AREA</th>\n",
              "      <th>COD_ESTADO</th>\n",
              "      <th>NOM_MUNICI</th>\n",
              "      <th>NUM_MODULO</th>\n",
              "      <th>TIPO_IMOVE</th>\n",
              "      <th>SITUACAO</th>\n",
              "      <th>CONDICAO_I</th>\n",
              "      <th>geometry</th>\n",
              "    </tr>\n",
              "  </thead>\n",
              "  <tbody>\n",
              "    <tr>\n",
              "      <th>0</th>\n",
              "      <td>AM-1302405-6F63EBF5EA864058B2B02CE6CE7C978F</td>\n",
              "      <td>59.316629</td>\n",
              "      <td>AM</td>\n",
              "      <td>Lábrea</td>\n",
              "      <td>0.5932</td>\n",
              "      <td>IRU</td>\n",
              "      <td>PE</td>\n",
              "      <td>Analisado com pendências, aguardando retificaç...</td>\n",
              "      <td>POLYGON ((-734906.403 2562229.825, -734869.871...</td>\n",
              "    </tr>\n",
              "    <tr>\n",
              "      <th>1</th>\n",
              "      <td>AM-1302405-AA1907779A0F41A9A6B2223027F7A829</td>\n",
              "      <td>100.224892</td>\n",
              "      <td>AM</td>\n",
              "      <td>Lábrea</td>\n",
              "      <td>1.0022</td>\n",
              "      <td>IRU</td>\n",
              "      <td>PE</td>\n",
              "      <td>Analisado com pendências, aguardando retificaç...</td>\n",
              "      <td>POLYGON ((-736595.743 2557908.955, -736330.354...</td>\n",
              "    </tr>\n",
              "    <tr>\n",
              "      <th>2</th>\n",
              "      <td>AM-1302405-D7B80B40290D4971BE914DC9A193EAD5</td>\n",
              "      <td>4924.316935</td>\n",
              "      <td>AM</td>\n",
              "      <td>Lábrea</td>\n",
              "      <td>51.3135</td>\n",
              "      <td>IRU</td>\n",
              "      <td>AT</td>\n",
              "      <td>Analisado com pendências, aguardando retificaç...</td>\n",
              "      <td>POLYGON ((-710176.765 2573995.713, -709583.330...</td>\n",
              "    </tr>\n",
              "    <tr>\n",
              "      <th>3</th>\n",
              "      <td>AM-1302405-450B753B24744318B6EA3DDC40A32C5D</td>\n",
              "      <td>4175.209638</td>\n",
              "      <td>AM</td>\n",
              "      <td>Lábrea</td>\n",
              "      <td>41.7521</td>\n",
              "      <td>IRU</td>\n",
              "      <td>PE</td>\n",
              "      <td>Analisado com pendências, aguardando retificaç...</td>\n",
              "      <td>POLYGON ((-720061.679 2577243.663, -710778.119...</td>\n",
              "    </tr>\n",
              "    <tr>\n",
              "      <th>4</th>\n",
              "      <td>AM-1302405-6AA5D37ECEC74951A4167DFA842906A3</td>\n",
              "      <td>538.786629</td>\n",
              "      <td>AM</td>\n",
              "      <td>Lábrea</td>\n",
              "      <td>5.3879</td>\n",
              "      <td>IRU</td>\n",
              "      <td>AT</td>\n",
              "      <td>Aguardando análise</td>\n",
              "      <td>POLYGON ((-724607.248 2561645.336, -724373.290...</td>\n",
              "    </tr>\n",
              "  </tbody>\n",
              "</table>\n",
              "</div>\n",
              "      <button class=\"colab-df-convert\" onclick=\"convertToInteractive('df-13c2cb93-2758-4e7f-8c9b-c65e1aedde5e')\"\n",
              "              title=\"Convert this dataframe to an interactive table.\"\n",
              "              style=\"display:none;\">\n",
              "        \n",
              "  <svg xmlns=\"http://www.w3.org/2000/svg\" height=\"24px\"viewBox=\"0 0 24 24\"\n",
              "       width=\"24px\">\n",
              "    <path d=\"M0 0h24v24H0V0z\" fill=\"none\"/>\n",
              "    <path d=\"M18.56 5.44l.94 2.06.94-2.06 2.06-.94-2.06-.94-.94-2.06-.94 2.06-2.06.94zm-11 1L8.5 8.5l.94-2.06 2.06-.94-2.06-.94L8.5 2.5l-.94 2.06-2.06.94zm10 10l.94 2.06.94-2.06 2.06-.94-2.06-.94-.94-2.06-.94 2.06-2.06.94z\"/><path d=\"M17.41 7.96l-1.37-1.37c-.4-.4-.92-.59-1.43-.59-.52 0-1.04.2-1.43.59L10.3 9.45l-7.72 7.72c-.78.78-.78 2.05 0 2.83L4 21.41c.39.39.9.59 1.41.59.51 0 1.02-.2 1.41-.59l7.78-7.78 2.81-2.81c.8-.78.8-2.07 0-2.86zM5.41 20L4 18.59l7.72-7.72 1.47 1.35L5.41 20z\"/>\n",
              "  </svg>\n",
              "      </button>\n",
              "      \n",
              "  <style>\n",
              "    .colab-df-container {\n",
              "      display:flex;\n",
              "      flex-wrap:wrap;\n",
              "      gap: 12px;\n",
              "    }\n",
              "\n",
              "    .colab-df-convert {\n",
              "      background-color: #E8F0FE;\n",
              "      border: none;\n",
              "      border-radius: 50%;\n",
              "      cursor: pointer;\n",
              "      display: none;\n",
              "      fill: #1967D2;\n",
              "      height: 32px;\n",
              "      padding: 0 0 0 0;\n",
              "      width: 32px;\n",
              "    }\n",
              "\n",
              "    .colab-df-convert:hover {\n",
              "      background-color: #E2EBFA;\n",
              "      box-shadow: 0px 1px 2px rgba(60, 64, 67, 0.3), 0px 1px 3px 1px rgba(60, 64, 67, 0.15);\n",
              "      fill: #174EA6;\n",
              "    }\n",
              "\n",
              "    [theme=dark] .colab-df-convert {\n",
              "      background-color: #3B4455;\n",
              "      fill: #D2E3FC;\n",
              "    }\n",
              "\n",
              "    [theme=dark] .colab-df-convert:hover {\n",
              "      background-color: #434B5C;\n",
              "      box-shadow: 0px 1px 3px 1px rgba(0, 0, 0, 0.15);\n",
              "      filter: drop-shadow(0px 1px 2px rgba(0, 0, 0, 0.3));\n",
              "      fill: #FFFFFF;\n",
              "    }\n",
              "  </style>\n",
              "\n",
              "      <script>\n",
              "        const buttonEl =\n",
              "          document.querySelector('#df-13c2cb93-2758-4e7f-8c9b-c65e1aedde5e button.colab-df-convert');\n",
              "        buttonEl.style.display =\n",
              "          google.colab.kernel.accessAllowed ? 'block' : 'none';\n",
              "\n",
              "        async function convertToInteractive(key) {\n",
              "          const element = document.querySelector('#df-13c2cb93-2758-4e7f-8c9b-c65e1aedde5e');\n",
              "          const dataTable =\n",
              "            await google.colab.kernel.invokeFunction('convertToInteractive',\n",
              "                                                     [key], {});\n",
              "          if (!dataTable) return;\n",
              "\n",
              "          const docLinkHtml = 'Like what you see? Visit the ' +\n",
              "            '<a target=\"_blank\" href=https://colab.research.google.com/notebooks/data_table.ipynb>data table notebook</a>'\n",
              "            + ' to learn more about interactive tables.';\n",
              "          element.innerHTML = '';\n",
              "          dataTable['output_type'] = 'display_data';\n",
              "          await google.colab.output.renderOutput(dataTable, element);\n",
              "          const docLink = document.createElement('div');\n",
              "          docLink.innerHTML = docLinkHtml;\n",
              "          element.appendChild(docLink);\n",
              "        }\n",
              "      </script>\n",
              "    </div>\n",
              "  </div>\n",
              "  "
            ]
          },
          "metadata": {},
          "execution_count": 9
        }
      ]
    },
    {
      "cell_type": "code",
      "source": [
        "for i in ano:\n",
        "  frame = df[df['ano'] == i]\n",
        "  join = imoveis.merge(frame, on='COD_IMOVEL')\n",
        "  join_sub = join [['Vegetação Nativa','Perc_VegNat','geometry']]\n",
        "  join_sub.to_file(f'/content/drive/MyDrive/CAR_RL_Labrea/OUTPUT/ANALISES/GEO/perc_vegnat_imoveis_{i}.shp', encoding='utf-8')"
      ],
      "metadata": {
        "colab": {
          "base_uri": "https://localhost:8080/"
        },
        "id": "1-wS-JuA_KqY",
        "outputId": "dd7e1118-5259-4a02-e5f9-1a3c3a11e9d5"
      },
      "execution_count": null,
      "outputs": [
        {
          "output_type": "stream",
          "name": "stderr",
          "text": [
            "<ipython-input-10-6067a6c57bcd>:5: UserWarning: Column names longer than 10 characters will be truncated when saved to ESRI Shapefile.\n",
            "  join_sub.to_file(f'/content/drive/MyDrive/CAR_RL_Labrea/OUTPUT/ANALISES/GEO/perc_vegnat_imoveis_{i}.shp', encoding='utf-8')\n",
            "WARNING:fiona._env:Normalized/laundered field name: 'Vegetação Nativa' to 'Vegetaçã'\n",
            "WARNING:fiona._env:Normalized/laundered field name: 'Perc_VegNat' to 'Perc_VegNa'\n",
            "<ipython-input-10-6067a6c57bcd>:5: UserWarning: Column names longer than 10 characters will be truncated when saved to ESRI Shapefile.\n",
            "  join_sub.to_file(f'/content/drive/MyDrive/CAR_RL_Labrea/OUTPUT/ANALISES/GEO/perc_vegnat_imoveis_{i}.shp', encoding='utf-8')\n",
            "WARNING:fiona._env:Normalized/laundered field name: 'Vegetação Nativa' to 'Vegetaçã'\n",
            "WARNING:fiona._env:Normalized/laundered field name: 'Perc_VegNat' to 'Perc_VegNa'\n",
            "<ipython-input-10-6067a6c57bcd>:5: UserWarning: Column names longer than 10 characters will be truncated when saved to ESRI Shapefile.\n",
            "  join_sub.to_file(f'/content/drive/MyDrive/CAR_RL_Labrea/OUTPUT/ANALISES/GEO/perc_vegnat_imoveis_{i}.shp', encoding='utf-8')\n",
            "WARNING:fiona._env:Normalized/laundered field name: 'Vegetação Nativa' to 'Vegetaçã'\n",
            "WARNING:fiona._env:Normalized/laundered field name: 'Perc_VegNat' to 'Perc_VegNa'\n",
            "<ipython-input-10-6067a6c57bcd>:5: UserWarning: Column names longer than 10 characters will be truncated when saved to ESRI Shapefile.\n",
            "  join_sub.to_file(f'/content/drive/MyDrive/CAR_RL_Labrea/OUTPUT/ANALISES/GEO/perc_vegnat_imoveis_{i}.shp', encoding='utf-8')\n",
            "WARNING:fiona._env:Normalized/laundered field name: 'Vegetação Nativa' to 'Vegetaçã'\n",
            "WARNING:fiona._env:Normalized/laundered field name: 'Perc_VegNat' to 'Perc_VegNa'\n"
          ]
        }
      ]
    }
  ]
}