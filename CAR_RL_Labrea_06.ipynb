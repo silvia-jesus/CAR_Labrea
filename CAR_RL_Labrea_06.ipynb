{
  "nbformat": 4,
  "nbformat_minor": 0,
  "metadata": {
    "colab": {
      "provenance": [],
      "authorship_tag": "ABX9TyMjaMyCA2PSVSt6jKHrpfgc",
      "include_colab_link": true
    },
    "kernelspec": {
      "name": "python3",
      "display_name": "Python 3"
    },
    "language_info": {
      "name": "python"
    }
  },
  "cells": [
    {
      "cell_type": "markdown",
      "metadata": {
        "id": "view-in-github",
        "colab_type": "text"
      },
      "source": [
        "<a href=\"https://colab.research.google.com/github/silvia-jesus/CAR_Labrea/blob/main/CAR_RL_Labrea_06.ipynb\" target=\"_parent\"><img src=\"https://colab.research.google.com/assets/colab-badge.svg\" alt=\"Open In Colab\"/></a>"
      ]
    },
    {
      "cell_type": "code",
      "execution_count": null,
      "metadata": {
        "colab": {
          "base_uri": "https://localhost:8080/"
        },
        "id": "KAmUehiK1J5I",
        "outputId": "b8b95f94-e7b4-44d6-c9ec-1311a4990d4b"
      },
      "outputs": [
        {
          "output_type": "stream",
          "name": "stdout",
          "text": [
            "Mounted at /content/drive\n"
          ]
        }
      ],
      "source": [
        "from google.colab import drive\n",
        "drive.mount('/content/drive', force_remount=True)"
      ]
    },
    {
      "cell_type": "code",
      "source": [
        "import os\n",
        "from pathlib import Path"
      ],
      "metadata": {
        "id": "EFjrSirx6m54"
      },
      "execution_count": null,
      "outputs": []
    },
    {
      "cell_type": "code",
      "source": [
        "from osgeo import gdal"
      ],
      "metadata": {
        "id": "D_JhjRY55J_y"
      },
      "execution_count": null,
      "outputs": []
    },
    {
      "cell_type": "code",
      "source": [
        "! pip install geopandas\n",
        "import geopandas as gpd"
      ],
      "metadata": {
        "colab": {
          "base_uri": "https://localhost:8080/"
        },
        "id": "gSFq-NI05Yli",
        "outputId": "8c45d275-36e8-4fbf-f560-89e89dc1435b"
      },
      "execution_count": null,
      "outputs": [
        {
          "output_type": "stream",
          "name": "stdout",
          "text": [
            "Looking in indexes: https://pypi.org/simple, https://us-python.pkg.dev/colab-wheels/public/simple/\n",
            "Requirement already satisfied: geopandas in /usr/local/lib/python3.9/dist-packages (0.12.2)\n",
            "Requirement already satisfied: pyproj>=2.6.1.post1 in /usr/local/lib/python3.9/dist-packages (from geopandas) (3.4.1)\n",
            "Requirement already satisfied: shapely>=1.7 in /usr/local/lib/python3.9/dist-packages (from geopandas) (2.0.1)\n",
            "Requirement already satisfied: fiona>=1.8 in /usr/local/lib/python3.9/dist-packages (from geopandas) (1.8.22)\n",
            "Requirement already satisfied: packaging in /usr/local/lib/python3.9/dist-packages (from geopandas) (23.0)\n",
            "Requirement already satisfied: pandas>=1.0.0 in /usr/local/lib/python3.9/dist-packages (from geopandas) (1.4.4)\n",
            "Requirement already satisfied: setuptools in /usr/local/lib/python3.9/dist-packages (from fiona>=1.8->geopandas) (67.6.0)\n",
            "Requirement already satisfied: attrs>=17 in /usr/local/lib/python3.9/dist-packages (from fiona>=1.8->geopandas) (22.2.0)\n",
            "Requirement already satisfied: certifi in /usr/local/lib/python3.9/dist-packages (from fiona>=1.8->geopandas) (2022.12.7)\n",
            "Requirement already satisfied: six>=1.7 in /usr/local/lib/python3.9/dist-packages (from fiona>=1.8->geopandas) (1.16.0)\n",
            "Requirement already satisfied: click>=4.0 in /usr/local/lib/python3.9/dist-packages (from fiona>=1.8->geopandas) (8.1.3)\n",
            "Requirement already satisfied: munch in /usr/local/lib/python3.9/dist-packages (from fiona>=1.8->geopandas) (2.5.0)\n",
            "Requirement already satisfied: click-plugins>=1.0 in /usr/local/lib/python3.9/dist-packages (from fiona>=1.8->geopandas) (1.1.1)\n",
            "Requirement already satisfied: cligj>=0.5 in /usr/local/lib/python3.9/dist-packages (from fiona>=1.8->geopandas) (0.7.2)\n",
            "Requirement already satisfied: numpy>=1.18.5 in /usr/local/lib/python3.9/dist-packages (from pandas>=1.0.0->geopandas) (1.22.4)\n",
            "Requirement already satisfied: pytz>=2020.1 in /usr/local/lib/python3.9/dist-packages (from pandas>=1.0.0->geopandas) (2022.7.1)\n",
            "Requirement already satisfied: python-dateutil>=2.8.1 in /usr/local/lib/python3.9/dist-packages (from pandas>=1.0.0->geopandas) (2.8.2)\n"
          ]
        },
        {
          "output_type": "stream",
          "name": "stderr",
          "text": [
            "/usr/local/lib/python3.9/dist-packages/geopandas/_compat.py:123: UserWarning: The Shapely GEOS version (3.11.1-CAPI-1.17.1) is incompatible with the GEOS version PyGEOS was compiled with (3.10.4-CAPI-1.16.2). Conversions between both will be slow.\n",
            "  warnings.warn(\n",
            "<ipython-input-4-115f0ca902c9>:2: UserWarning: Shapely 2.0 is installed, but because PyGEOS is also installed, GeoPandas will still use PyGEOS by default for now. To force to use and test Shapely 2.0, you have to set the environment variable USE_PYGEOS=0. You can do this before starting the Python process, or in your code before importing geopandas:\n",
            "\n",
            "import os\n",
            "os.environ['USE_PYGEOS'] = '0'\n",
            "import geopandas\n",
            "\n",
            "In a future release, GeoPandas will switch to using Shapely by default. If you are using PyGEOS directly (calling PyGEOS functions on geometries from GeoPandas), this will then stop working and you are encouraged to migrate from PyGEOS to Shapely 2.0 (https://shapely.readthedocs.io/en/latest/migration_pygeos.html).\n",
            "  import geopandas as gpd\n"
          ]
        }
      ]
    },
    {
      "cell_type": "code",
      "source": [
        "!sudo apt install libspatialindex-dev\n",
        "!pip install rtree\n",
        "!pip install pygeos\n",
        "\n",
        "import rtree\n",
        "import pygeos\n",
        "gpd.options.use_pygeos = True\n",
        "USE_PYGEOS=1"
      ],
      "metadata": {
        "colab": {
          "base_uri": "https://localhost:8080/"
        },
        "id": "I2CCHdCK5ajR",
        "outputId": "e567aee7-3e83-4ee6-c9d4-66f7b6d27db6"
      },
      "execution_count": null,
      "outputs": [
        {
          "output_type": "stream",
          "name": "stdout",
          "text": [
            "Reading package lists... Done\n",
            "Building dependency tree       \n",
            "Reading state information... Done\n",
            "libspatialindex-dev is already the newest version (1.9.3-1build1).\n",
            "0 upgraded, 0 newly installed, 0 to remove and 23 not upgraded.\n",
            "Looking in indexes: https://pypi.org/simple, https://us-python.pkg.dev/colab-wheels/public/simple/\n",
            "Requirement already satisfied: rtree in /usr/local/lib/python3.9/dist-packages (1.0.1)\n",
            "Looking in indexes: https://pypi.org/simple, https://us-python.pkg.dev/colab-wheels/public/simple/\n",
            "Requirement already satisfied: pygeos in /usr/local/lib/python3.9/dist-packages (0.14)\n",
            "Requirement already satisfied: numpy>=1.13 in /usr/local/lib/python3.9/dist-packages (from pygeos) (1.22.4)\n"
          ]
        },
        {
          "output_type": "stream",
          "name": "stderr",
          "text": [
            "/usr/local/lib/python3.9/dist-packages/IPython/core/interactiveshell.py:3249: UserWarning: Shapely 2.0 is installed, but because PyGEOS is also installed, GeoPandas will still use PyGEOS by default for now. To force to use and test Shapely 2.0, you have to set the environment variable USE_PYGEOS=0. You can do this before starting the Python process, or in your code before importing geopandas:\n",
            "\n",
            "import os\n",
            "os.environ['USE_PYGEOS'] = '0'\n",
            "import geopandas\n",
            "\n",
            "In a future release, GeoPandas will switch to using Shapely by default. If you are using PyGEOS directly (calling PyGEOS functions on geometries from GeoPandas), this will then stop working and you are encouraged to migrate from PyGEOS to Shapely 2.0 (https://shapely.readthedocs.io/en/latest/migration_pygeos.html).\n",
            "  if (await self.run_code(code, result,  async_=asy)):\n"
          ]
        }
      ]
    },
    {
      "cell_type": "code",
      "source": [
        "!pip install rasterio\n",
        "import rasterio as rio"
      ],
      "metadata": {
        "colab": {
          "base_uri": "https://localhost:8080/"
        },
        "id": "XEFa-UYE5dgA",
        "outputId": "98378cb7-8dfb-4b95-c598-fd105f832012"
      },
      "execution_count": null,
      "outputs": [
        {
          "output_type": "stream",
          "name": "stdout",
          "text": [
            "Looking in indexes: https://pypi.org/simple, https://us-python.pkg.dev/colab-wheels/public/simple/\n",
            "Requirement already satisfied: rasterio in /usr/local/lib/python3.9/dist-packages (1.3.6)\n",
            "Requirement already satisfied: snuggs>=1.4.1 in /usr/local/lib/python3.9/dist-packages (from rasterio) (1.4.7)\n",
            "Requirement already satisfied: setuptools in /usr/local/lib/python3.9/dist-packages (from rasterio) (67.6.0)\n",
            "Requirement already satisfied: certifi in /usr/local/lib/python3.9/dist-packages (from rasterio) (2022.12.7)\n",
            "Requirement already satisfied: attrs in /usr/local/lib/python3.9/dist-packages (from rasterio) (22.2.0)\n",
            "Requirement already satisfied: affine in /usr/local/lib/python3.9/dist-packages (from rasterio) (2.4.0)\n",
            "Requirement already satisfied: click-plugins in /usr/local/lib/python3.9/dist-packages (from rasterio) (1.1.1)\n",
            "Requirement already satisfied: click>=4.0 in /usr/local/lib/python3.9/dist-packages (from rasterio) (8.1.3)\n",
            "Requirement already satisfied: numpy>=1.18 in /usr/local/lib/python3.9/dist-packages (from rasterio) (1.22.4)\n",
            "Requirement already satisfied: cligj>=0.5 in /usr/local/lib/python3.9/dist-packages (from rasterio) (0.7.2)\n",
            "Requirement already satisfied: pyparsing>=2.1.6 in /usr/local/lib/python3.9/dist-packages (from snuggs>=1.4.1->rasterio) (3.0.9)\n"
          ]
        }
      ]
    },
    {
      "cell_type": "code",
      "source": [
        "!pip install rasterstats\n",
        "from rasterstats import zonal_stats"
      ],
      "metadata": {
        "colab": {
          "base_uri": "https://localhost:8080/"
        },
        "id": "JK7DETme5jyR",
        "outputId": "9b5c9ee2-0e21-4341-dd2c-05cddcc9acae"
      },
      "execution_count": null,
      "outputs": [
        {
          "output_type": "stream",
          "name": "stdout",
          "text": [
            "Looking in indexes: https://pypi.org/simple, https://us-python.pkg.dev/colab-wheels/public/simple/\n",
            "Requirement already satisfied: rasterstats in /usr/local/lib/python3.9/dist-packages (0.18.0)\n",
            "Requirement already satisfied: rasterio>=1.0 in /usr/local/lib/python3.9/dist-packages (from rasterstats) (1.3.6)\n",
            "Requirement already satisfied: fiona<1.9 in /usr/local/lib/python3.9/dist-packages (from rasterstats) (1.8.22)\n",
            "Requirement already satisfied: shapely in /usr/local/lib/python3.9/dist-packages (from rasterstats) (2.0.1)\n",
            "Requirement already satisfied: affine<3.0 in /usr/local/lib/python3.9/dist-packages (from rasterstats) (2.4.0)\n",
            "Requirement already satisfied: cligj>=0.4 in /usr/local/lib/python3.9/dist-packages (from rasterstats) (0.7.2)\n",
            "Requirement already satisfied: simplejson in /usr/local/lib/python3.9/dist-packages (from rasterstats) (3.18.4)\n",
            "Requirement already satisfied: click>7.1 in /usr/local/lib/python3.9/dist-packages (from rasterstats) (8.1.3)\n",
            "Requirement already satisfied: numpy>=1.9 in /usr/local/lib/python3.9/dist-packages (from rasterstats) (1.22.4)\n",
            "Requirement already satisfied: six>=1.7 in /usr/local/lib/python3.9/dist-packages (from fiona<1.9->rasterstats) (1.16.0)\n",
            "Requirement already satisfied: setuptools in /usr/local/lib/python3.9/dist-packages (from fiona<1.9->rasterstats) (67.6.0)\n",
            "Requirement already satisfied: attrs>=17 in /usr/local/lib/python3.9/dist-packages (from fiona<1.9->rasterstats) (22.2.0)\n",
            "Requirement already satisfied: munch in /usr/local/lib/python3.9/dist-packages (from fiona<1.9->rasterstats) (2.5.0)\n",
            "Requirement already satisfied: certifi in /usr/local/lib/python3.9/dist-packages (from fiona<1.9->rasterstats) (2022.12.7)\n",
            "Requirement already satisfied: click-plugins>=1.0 in /usr/local/lib/python3.9/dist-packages (from fiona<1.9->rasterstats) (1.1.1)\n",
            "Requirement already satisfied: snuggs>=1.4.1 in /usr/local/lib/python3.9/dist-packages (from rasterio>=1.0->rasterstats) (1.4.7)\n",
            "Requirement already satisfied: pyparsing>=2.1.6 in /usr/local/lib/python3.9/dist-packages (from snuggs>=1.4.1->rasterio>=1.0->rasterstats) (3.0.9)\n"
          ]
        }
      ]
    },
    {
      "cell_type": "code",
      "source": [
        "from rasterio import mask"
      ],
      "metadata": {
        "id": "B8EcADoD5mtQ"
      },
      "execution_count": null,
      "outputs": []
    },
    {
      "cell_type": "code",
      "source": [
        "!pip install fiona\n",
        "import fiona"
      ],
      "metadata": {
        "colab": {
          "base_uri": "https://localhost:8080/"
        },
        "id": "3mkm72FI5o_g",
        "outputId": "509f4e12-0260-4870-ec80-ac733a2adcee"
      },
      "execution_count": null,
      "outputs": [
        {
          "output_type": "stream",
          "name": "stdout",
          "text": [
            "Looking in indexes: https://pypi.org/simple, https://us-python.pkg.dev/colab-wheels/public/simple/\n",
            "Requirement already satisfied: fiona in /usr/local/lib/python3.9/dist-packages (1.8.22)\n",
            "Requirement already satisfied: certifi in /usr/local/lib/python3.9/dist-packages (from fiona) (2022.12.7)\n",
            "Requirement already satisfied: attrs>=17 in /usr/local/lib/python3.9/dist-packages (from fiona) (22.2.0)\n",
            "Requirement already satisfied: six>=1.7 in /usr/local/lib/python3.9/dist-packages (from fiona) (1.16.0)\n",
            "Requirement already satisfied: setuptools in /usr/local/lib/python3.9/dist-packages (from fiona) (67.6.0)\n",
            "Requirement already satisfied: munch in /usr/local/lib/python3.9/dist-packages (from fiona) (2.5.0)\n",
            "Requirement already satisfied: click>=4.0 in /usr/local/lib/python3.9/dist-packages (from fiona) (8.1.3)\n",
            "Requirement already satisfied: click-plugins>=1.0 in /usr/local/lib/python3.9/dist-packages (from fiona) (1.1.1)\n",
            "Requirement already satisfied: cligj>=0.5 in /usr/local/lib/python3.9/dist-packages (from fiona) (0.7.2)\n"
          ]
        }
      ]
    },
    {
      "cell_type": "code",
      "source": [
        "import matplotlib.pyplot as plt\n",
        "import matplotlib as mpl\n",
        "import seaborn as sns\n",
        "import pandas as pd\n",
        "import numpy as np"
      ],
      "metadata": {
        "id": "kwDtQZHw5Lvg"
      },
      "execution_count": null,
      "outputs": []
    },
    {
      "cell_type": "code",
      "source": [
        "import glob\n",
        "import shutil\n",
        "import os\n",
        "import time"
      ],
      "metadata": {
        "id": "BirNPEHl5Tfh"
      },
      "execution_count": null,
      "outputs": []
    },
    {
      "cell_type": "code",
      "source": [
        "if not os.path.exists('/content/drive/MyDrive/CAR_RL_Labrea/OUTPUT/RL_LULC_RECODE'):\n",
        "  os.makedirs('/content/drive/MyDrive/CAR_RL_Labrea/OUTPUT/RL_LULC_RECODE')\n",
        "\n",
        "Path('./').mkdir(parents=True, exist_ok=True)"
      ],
      "metadata": {
        "id": "7ZAXBmYpJg9Y"
      },
      "execution_count": null,
      "outputs": []
    },
    {
      "cell_type": "code",
      "source": [
        "if not os.path.exists('/content/drive/MyDrive/CAR_RL_Labrea/OUTPUT/RL_LULC_RECODE/Arrays_LULC'):\n",
        "  os.makedirs('/content/drive/MyDrive/CAR_RL_Labrea/OUTPUT/RL_LULC_RECODE/Arrays_LULC')\n",
        "\n",
        "Path('./').mkdir(parents=True, exist_ok=True)"
      ],
      "metadata": {
        "id": "i9hybCV2Jkze"
      },
      "execution_count": null,
      "outputs": []
    },
    {
      "cell_type": "code",
      "source": [
        "recode6=glob.glob('/content/drive/MyDrive/CAR_RL_Labrea/OUTPUT/MAPBIOMAS_RECODE/*')\n",
        "recode6"
      ],
      "metadata": {
        "colab": {
          "base_uri": "https://localhost:8080/"
        },
        "id": "IhzxBkiB5u-o",
        "outputId": "30d04e23-bdba-4ef9-c964-5f8c3f3e5289"
      },
      "execution_count": null,
      "outputs": [
        {
          "output_type": "execute_result",
          "data": {
            "text/plain": [
              "['/content/drive/MyDrive/CAR_RL_Labrea/OUTPUT/MAPBIOMAS_RECODE/2020_recode.tif',\n",
              " '/content/drive/MyDrive/CAR_RL_Labrea/OUTPUT/MAPBIOMAS_RECODE/2008_recode.tif',\n",
              " '/content/drive/MyDrive/CAR_RL_Labrea/OUTPUT/MAPBIOMAS_RECODE/2012_recode.tif',\n",
              " '/content/drive/MyDrive/CAR_RL_Labrea/OUTPUT/MAPBIOMAS_RECODE/2016_recode.tif']"
            ]
          },
          "metadata": {},
          "execution_count": 14
        }
      ]
    },
    {
      "cell_type": "code",
      "source": [
        "files_rl = glob.glob('/content/drive/MyDrive/CAR_RL_Labrea/OUTPUT/RL_SPLIT/*.shp')\n",
        "len(files_rl)"
      ],
      "metadata": {
        "colab": {
          "base_uri": "https://localhost:8080/"
        },
        "id": "v-LjrBdsKy1G",
        "outputId": "13817164-d1e0-4025-ead7-1d466acfaf65"
      },
      "execution_count": null,
      "outputs": [
        {
          "output_type": "execute_result",
          "data": {
            "text/plain": [
              "2860"
            ]
          },
          "metadata": {},
          "execution_count": 15
        }
      ]
    },
    {
      "cell_type": "code",
      "source": [
        "start = time.time()\n",
        "for rl in files_rl:\n",
        "    for lulc in recode6:\n",
        "        with fiona.open(rl, 'r') as shapefile:\n",
        "            shapes = [feature['geometry'] for feature in shapefile]\n",
        "        with rio.open(lulc) as src:\n",
        "            out_image, transformed = rio.mask.mask(src, shapes, crop=True, filled=True)\n",
        "\n",
        "            gdf = gpd.read_file(rl)\n",
        "\n",
        "            id_rl=gdf.iloc[0]['IDF']\n",
        "            year = lulc.replace('/content/drive/MyDrive/CAR_RL_Labrea/OUTPUT/MAPBIOMAS_RECODE/','').replace('_recode.tif','')\n",
        "\n",
        "            data=out_image.flatten()\n",
        "            data=data[data >= 0] #to remove nan\n",
        "            unique, counts = np.unique(data, return_counts=True)\n",
        "            arr = np.array([unique, counts])\n",
        "            df = pd.DataFrame(data=arr)\n",
        "            new_header = df.iloc[0] #grab the first row for the header\n",
        "            df = df[1:] #take the data less the header row\n",
        "            df.columns = new_header #set the header row as the df header\n",
        "\n",
        "            df['IDF']=id_rl\n",
        "            df['ano']=year\n",
        "            df.to_csv(f'/content/drive/MyDrive/CAR_RL_Labrea/OUTPUT/RL_LULC_RECODE/Arrays_LULC/recode_{id_rl}_{year}.csv')\n",
        "\n",
        "end = time.time()\n",
        "duration = end-start\n",
        "print(f'O processamento demorou {duration} segundos.')"
      ],
      "metadata": {
        "id": "XK547ewQ7Egw",
        "colab": {
          "base_uri": "https://localhost:8080/"
        },
        "outputId": "37fb68a8-69bc-4c72-915b-c5459081b3fc"
      },
      "execution_count": null,
      "outputs": [
        {
          "output_type": "stream",
          "name": "stdout",
          "text": [
            "O processamento demorou 6310.745069503784 segundos.\n"
          ]
        }
      ]
    },
    {
      "cell_type": "code",
      "source": [
        "lulc_csv = glob.glob('/content/drive/MyDrive/CAR_RL_Labrea/OUTPUT/RL_LULC_RECODE/Arrays_LULC/recode_*.csv')"
      ],
      "metadata": {
        "id": "EEqaBaZe9W_o"
      },
      "execution_count": null,
      "outputs": []
    },
    {
      "cell_type": "code",
      "source": [
        "lulc_df = pd.concat(map(pd.read_csv, lulc_csv), ignore_index=True)\n",
        "lulc_df = lulc_df.iloc[:, 2:] #remove old index and 0 values\n",
        "\n",
        "cols = lulc_df.columns\n",
        "cols"
      ],
      "metadata": {
        "colab": {
          "base_uri": "https://localhost:8080/"
        },
        "id": "t3lT-Tqw9kXe",
        "outputId": "10b55385-88ab-4aec-b20d-868a3cfa1426"
      },
      "execution_count": null,
      "outputs": [
        {
          "output_type": "execute_result",
          "data": {
            "text/plain": [
              "Index(['1', '3', 'IDF', 'ano', '2', '5'], dtype='object')"
            ]
          },
          "metadata": {},
          "execution_count": 30
        }
      ]
    },
    {
      "cell_type": "code",
      "source": [
        "lulc_df = lulc_df.fillna(0)\n",
        "lulc_df.head(6)"
      ],
      "metadata": {
        "colab": {
          "base_uri": "https://localhost:8080/",
          "height": 237
        },
        "id": "anWBR3jqKdL4",
        "outputId": "70a00fdd-2c96-44b8-f17e-42705061b664"
      },
      "execution_count": null,
      "outputs": [
        {
          "output_type": "execute_result",
          "data": {
            "text/plain": [
              "        1      3     IDF   ano    2    5\n",
              "0  1238.0  463.0  113026  2008  0.0  0.0\n",
              "1  1260.0  441.0  113026  2016  0.0  0.0\n",
              "2  1225.0  476.0  113026  2012  0.0  0.0\n",
              "3  1355.0  346.0  113026  2020  0.0  0.0\n",
              "4   315.0   33.0  113802  2008  0.0  0.0\n",
              "5   121.0  227.0  113802  2016  0.0  0.0"
            ],
            "text/html": [
              "\n",
              "  <div id=\"df-d3585ea1-ae49-4c83-84d8-4779b6945e7a\">\n",
              "    <div class=\"colab-df-container\">\n",
              "      <div>\n",
              "<style scoped>\n",
              "    .dataframe tbody tr th:only-of-type {\n",
              "        vertical-align: middle;\n",
              "    }\n",
              "\n",
              "    .dataframe tbody tr th {\n",
              "        vertical-align: top;\n",
              "    }\n",
              "\n",
              "    .dataframe thead th {\n",
              "        text-align: right;\n",
              "    }\n",
              "</style>\n",
              "<table border=\"1\" class=\"dataframe\">\n",
              "  <thead>\n",
              "    <tr style=\"text-align: right;\">\n",
              "      <th></th>\n",
              "      <th>1</th>\n",
              "      <th>3</th>\n",
              "      <th>IDF</th>\n",
              "      <th>ano</th>\n",
              "      <th>2</th>\n",
              "      <th>5</th>\n",
              "    </tr>\n",
              "  </thead>\n",
              "  <tbody>\n",
              "    <tr>\n",
              "      <th>0</th>\n",
              "      <td>1238.0</td>\n",
              "      <td>463.0</td>\n",
              "      <td>113026</td>\n",
              "      <td>2008</td>\n",
              "      <td>0.0</td>\n",
              "      <td>0.0</td>\n",
              "    </tr>\n",
              "    <tr>\n",
              "      <th>1</th>\n",
              "      <td>1260.0</td>\n",
              "      <td>441.0</td>\n",
              "      <td>113026</td>\n",
              "      <td>2016</td>\n",
              "      <td>0.0</td>\n",
              "      <td>0.0</td>\n",
              "    </tr>\n",
              "    <tr>\n",
              "      <th>2</th>\n",
              "      <td>1225.0</td>\n",
              "      <td>476.0</td>\n",
              "      <td>113026</td>\n",
              "      <td>2012</td>\n",
              "      <td>0.0</td>\n",
              "      <td>0.0</td>\n",
              "    </tr>\n",
              "    <tr>\n",
              "      <th>3</th>\n",
              "      <td>1355.0</td>\n",
              "      <td>346.0</td>\n",
              "      <td>113026</td>\n",
              "      <td>2020</td>\n",
              "      <td>0.0</td>\n",
              "      <td>0.0</td>\n",
              "    </tr>\n",
              "    <tr>\n",
              "      <th>4</th>\n",
              "      <td>315.0</td>\n",
              "      <td>33.0</td>\n",
              "      <td>113802</td>\n",
              "      <td>2008</td>\n",
              "      <td>0.0</td>\n",
              "      <td>0.0</td>\n",
              "    </tr>\n",
              "    <tr>\n",
              "      <th>5</th>\n",
              "      <td>121.0</td>\n",
              "      <td>227.0</td>\n",
              "      <td>113802</td>\n",
              "      <td>2016</td>\n",
              "      <td>0.0</td>\n",
              "      <td>0.0</td>\n",
              "    </tr>\n",
              "  </tbody>\n",
              "</table>\n",
              "</div>\n",
              "      <button class=\"colab-df-convert\" onclick=\"convertToInteractive('df-d3585ea1-ae49-4c83-84d8-4779b6945e7a')\"\n",
              "              title=\"Convert this dataframe to an interactive table.\"\n",
              "              style=\"display:none;\">\n",
              "        \n",
              "  <svg xmlns=\"http://www.w3.org/2000/svg\" height=\"24px\"viewBox=\"0 0 24 24\"\n",
              "       width=\"24px\">\n",
              "    <path d=\"M0 0h24v24H0V0z\" fill=\"none\"/>\n",
              "    <path d=\"M18.56 5.44l.94 2.06.94-2.06 2.06-.94-2.06-.94-.94-2.06-.94 2.06-2.06.94zm-11 1L8.5 8.5l.94-2.06 2.06-.94-2.06-.94L8.5 2.5l-.94 2.06-2.06.94zm10 10l.94 2.06.94-2.06 2.06-.94-2.06-.94-.94-2.06-.94 2.06-2.06.94z\"/><path d=\"M17.41 7.96l-1.37-1.37c-.4-.4-.92-.59-1.43-.59-.52 0-1.04.2-1.43.59L10.3 9.45l-7.72 7.72c-.78.78-.78 2.05 0 2.83L4 21.41c.39.39.9.59 1.41.59.51 0 1.02-.2 1.41-.59l7.78-7.78 2.81-2.81c.8-.78.8-2.07 0-2.86zM5.41 20L4 18.59l7.72-7.72 1.47 1.35L5.41 20z\"/>\n",
              "  </svg>\n",
              "      </button>\n",
              "      \n",
              "  <style>\n",
              "    .colab-df-container {\n",
              "      display:flex;\n",
              "      flex-wrap:wrap;\n",
              "      gap: 12px;\n",
              "    }\n",
              "\n",
              "    .colab-df-convert {\n",
              "      background-color: #E8F0FE;\n",
              "      border: none;\n",
              "      border-radius: 50%;\n",
              "      cursor: pointer;\n",
              "      display: none;\n",
              "      fill: #1967D2;\n",
              "      height: 32px;\n",
              "      padding: 0 0 0 0;\n",
              "      width: 32px;\n",
              "    }\n",
              "\n",
              "    .colab-df-convert:hover {\n",
              "      background-color: #E2EBFA;\n",
              "      box-shadow: 0px 1px 2px rgba(60, 64, 67, 0.3), 0px 1px 3px 1px rgba(60, 64, 67, 0.15);\n",
              "      fill: #174EA6;\n",
              "    }\n",
              "\n",
              "    [theme=dark] .colab-df-convert {\n",
              "      background-color: #3B4455;\n",
              "      fill: #D2E3FC;\n",
              "    }\n",
              "\n",
              "    [theme=dark] .colab-df-convert:hover {\n",
              "      background-color: #434B5C;\n",
              "      box-shadow: 0px 1px 3px 1px rgba(0, 0, 0, 0.15);\n",
              "      filter: drop-shadow(0px 1px 2px rgba(0, 0, 0, 0.3));\n",
              "      fill: #FFFFFF;\n",
              "    }\n",
              "  </style>\n",
              "\n",
              "      <script>\n",
              "        const buttonEl =\n",
              "          document.querySelector('#df-d3585ea1-ae49-4c83-84d8-4779b6945e7a button.colab-df-convert');\n",
              "        buttonEl.style.display =\n",
              "          google.colab.kernel.accessAllowed ? 'block' : 'none';\n",
              "\n",
              "        async function convertToInteractive(key) {\n",
              "          const element = document.querySelector('#df-d3585ea1-ae49-4c83-84d8-4779b6945e7a');\n",
              "          const dataTable =\n",
              "            await google.colab.kernel.invokeFunction('convertToInteractive',\n",
              "                                                     [key], {});\n",
              "          if (!dataTable) return;\n",
              "\n",
              "          const docLinkHtml = 'Like what you see? Visit the ' +\n",
              "            '<a target=\"_blank\" href=https://colab.research.google.com/notebooks/data_table.ipynb>data table notebook</a>'\n",
              "            + ' to learn more about interactive tables.';\n",
              "          element.innerHTML = '';\n",
              "          dataTable['output_type'] = 'display_data';\n",
              "          await google.colab.output.renderOutput(dataTable, element);\n",
              "          const docLink = document.createElement('div');\n",
              "          docLink.innerHTML = docLinkHtml;\n",
              "          element.appendChild(docLink);\n",
              "        }\n",
              "      </script>\n",
              "    </div>\n",
              "  </div>\n",
              "  "
            ]
          },
          "metadata": {},
          "execution_count": 31
        }
      ]
    },
    {
      "cell_type": "code",
      "source": [
        "lulc_df = pd.concat(map(pd.read_csv, lulc_csv), ignore_index=True)\n",
        "lulc_df = lulc_df.iloc[:, 2:] #remove old index and 0 values\n",
        "cols = lulc_df.columns\n",
        "cols"
      ],
      "metadata": {
        "colab": {
          "base_uri": "https://localhost:8080/"
        },
        "id": "pjPbk_WkK2es",
        "outputId": "55581b79-faa4-4e5f-cbd9-6de764f70532"
      },
      "execution_count": null,
      "outputs": [
        {
          "output_type": "execute_result",
          "data": {
            "text/plain": [
              "Index(['1', '3', 'IDF', 'ano', '2', '5'], dtype='object')"
            ]
          },
          "metadata": {},
          "execution_count": 27
        }
      ]
    },
    {
      "cell_type": "code",
      "source": [
        "if not os.path.exists('/content/drive/MyDrive/CAR_RL_Labrea/OUTPUT/Tabelas_LULC'):\n",
        "  os.makedirs('/content/drive/MyDrive/CAR_RL_Labrea/OUTPUT/Tabelas_LULC')\n",
        "\n",
        "\n",
        "Path('./').mkdir(parents=True, exist_ok=True)"
      ],
      "metadata": {
        "id": "FkLOMAPWvtD3"
      },
      "execution_count": null,
      "outputs": []
    },
    {
      "cell_type": "code",
      "source": [
        "lulc_df.to_csv('/content/drive/MyDrive/CAR_RL_Labrea/OUTPUT/Tabelas_LULC/RL_RECODE_Labrea.csv')"
      ],
      "metadata": {
        "id": "ls7FR3BI1GuM"
      },
      "execution_count": null,
      "outputs": []
    }
  ]
}